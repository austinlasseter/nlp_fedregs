{
 "cells": [
  {
   "cell_type": "code",
   "execution_count": 1,
   "metadata": {
    "ExecuteTime": {
     "end_time": "2018-11-17T04:08:37.149681Z",
     "start_time": "2018-11-17T04:08:36.201677Z"
    }
   },
   "outputs": [],
   "source": [
    "import pandas as pd\n",
    "import os\n",
    "import numpy as np\n",
    "import sys\n",
    "import pickle\n",
    "from collections import Counter\n",
    "import string\n",
    "import nltk\n",
    "from nltk.corpus import stopwords\n",
    "\n",
    "from nltk.tokenize import word_tokenize\n",
    "from sklearn.model_selection import train_test_split, GridSearchCV\n",
    "from sklearn.linear_model import LogisticRegression\n",
    "from sklearn.ensemble import RandomForestClassifier\n",
    "from sklearn.naive_bayes import MultinomialNB\n",
    "from sklearn.feature_extraction.text import TfidfVectorizer\n",
    "from sklearn import metrics"
   ]
  },
  {
   "cell_type": "code",
   "execution_count": 2,
   "metadata": {
    "ExecuteTime": {
     "end_time": "2018-11-17T04:08:38.889952Z",
     "start_time": "2018-11-17T04:08:38.113500Z"
    }
   },
   "outputs": [],
   "source": [
    "from string import punctuation\n",
    "from nltk import WordNetLemmatizer\n",
    "from nltk.corpus import stopwords\n",
    "from nltk import  word_tokenize"
   ]
  },
  {
   "cell_type": "code",
   "execution_count": 3,
   "metadata": {
    "ExecuteTime": {
     "end_time": "2018-11-17T04:08:38.908192Z",
     "start_time": "2018-11-17T04:08:38.905548Z"
    }
   },
   "outputs": [
    {
     "name": "stdout",
     "output_type": "stream",
     "text": [
      "/Users/austinlasseter/atelier/github_projects/repos_2020/nlp_fedregs\n"
     ]
    }
   ],
   "source": [
    "# set the path\n",
    "import os \n",
    "path = os.getcwd()\n",
    "print (str(path))"
   ]
  },
  {
   "cell_type": "code",
   "execution_count": 4,
   "metadata": {
    "ExecuteTime": {
     "end_time": "2018-11-17T04:08:45.126927Z",
     "start_time": "2018-11-17T04:08:45.124175Z"
    }
   },
   "outputs": [],
   "source": [
    "# maximize output width\n",
    "pd.set_option('display.max_colwidth', -1)"
   ]
  },
  {
   "cell_type": "code",
   "execution_count": 5,
   "metadata": {
    "ExecuteTime": {
     "end_time": "2018-11-17T04:08:45.561901Z",
     "start_time": "2018-11-17T04:08:45.551120Z"
    }
   },
   "outputs": [],
   "source": [
    "df=pd.read_csv(path + \"/training.csv\", nrows=300) # Note: only some rows have been manually labeled."
   ]
  },
  {
   "cell_type": "code",
   "execution_count": 6,
   "metadata": {
    "ExecuteTime": {
     "end_time": "2018-11-17T04:08:47.349689Z",
     "start_time": "2018-11-17T04:08:47.336223Z"
    }
   },
   "outputs": [
    {
     "data": {
      "text/html": [
       "<div>\n",
       "<style scoped>\n",
       "    .dataframe tbody tr th:only-of-type {\n",
       "        vertical-align: middle;\n",
       "    }\n",
       "\n",
       "    .dataframe tbody tr th {\n",
       "        vertical-align: top;\n",
       "    }\n",
       "\n",
       "    .dataframe thead th {\n",
       "        text-align: right;\n",
       "    }\n",
       "</style>\n",
       "<table border=\"1\" class=\"dataframe\">\n",
       "  <thead>\n",
       "    <tr style=\"text-align: right;\">\n",
       "      <th></th>\n",
       "      <th>Comments</th>\n",
       "      <th>Immigrant_author</th>\n",
       "      <th>Supports</th>\n",
       "      <th>postedDate</th>\n",
       "    </tr>\n",
       "  </thead>\n",
       "  <tbody>\n",
       "    <tr>\n",
       "      <th>295</th>\n",
       "      <td>We require this LAW to be implemented so as we could retain capable H1 resources as well get qualified depended to work for USA</td>\n",
       "      <td>0</td>\n",
       "      <td>1</td>\n",
       "      <td>2014-06-04T00:00:00-04:00</td>\n",
       "    </tr>\n",
       "    <tr>\n",
       "      <th>296</th>\n",
       "      <td>No. If so, what's the difference between certain H4 and the H1?  There are too many qualified H4 willing to work no matter how less the employer pays, then what happens to the H1 and all the mid-class?</td>\n",
       "      <td>0</td>\n",
       "      <td>0</td>\n",
       "      <td>2014-07-12T00:00:00-04:00</td>\n",
       "    </tr>\n",
       "    <tr>\n",
       "      <th>297</th>\n",
       "      <td>I am strongly in the favor of this rule. This provides valuable workforce for the country with a huge pool of H-4 people who are unable to work even when highly qualified. This would boost the overall economy for the country. Also, I think not having the work authorization for dependent H-4 visa people is somewhat against the basic human principle. Everyone who are legally here should have the right to work and earn their livelihood to be independent. I am glad that this rule is finally about to come in effect.</td>\n",
       "      <td>0</td>\n",
       "      <td>0</td>\n",
       "      <td>2014-06-16T00:00:00-04:00</td>\n",
       "    </tr>\n",
       "    <tr>\n",
       "      <th>298</th>\n",
       "      <td>Allowed to work is a fundamental human right. Stripping a portion of inhabitants of this country of that fundamental right is just unfair. These are well educated, well qualified, law abiding people who came in thru the right channels. Their lives cannot be punished because they chose to support their spouse. My wife is an MBA and is forced to sit at home just because of this rule.</td>\n",
       "      <td>0</td>\n",
       "      <td>0</td>\n",
       "      <td>2014-07-14T00:00:00-04:00</td>\n",
       "    </tr>\n",
       "    <tr>\n",
       "      <th>299</th>\n",
       "      <td>I would think this rule is much necessary for any country which in support of Women Empowerment...As I understand from social trend , majority of dependent workers are women .  So , if Govt . doesn' t allow the dependents to work it really hinders the professional  growth which eventually reduces personality development in women which is  against women empowerment . \\r\\r\\n\\r\\r\\nSince we are aiming at Women empowerment in all possible scenarios , I would suggest that the allowing the dependent to work will surely be a major step towards the social improvement across the globe.</td>\n",
       "      <td>0</td>\n",
       "      <td>0</td>\n",
       "      <td>2014-05-29T00:00:00-04:00</td>\n",
       "    </tr>\n",
       "  </tbody>\n",
       "</table>\n",
       "</div>"
      ],
      "text/plain": [
       "                                                                                                                                                                                                                                                                                                                                                                                                                                                                                                                                                                                                    Comments  \\\n",
       "295  We require this LAW to be implemented so as we could retain capable H1 resources as well get qualified depended to work for USA                                                                                                                                                                                                                                                                                                                                                                                                                                                                           \n",
       "296  No. If so, what's the difference between certain H4 and the H1?  There are too many qualified H4 willing to work no matter how less the employer pays, then what happens to the H1 and all the mid-class?                                                                                                                                                                                                                                                                                                                                                                                                 \n",
       "297  I am strongly in the favor of this rule. This provides valuable workforce for the country with a huge pool of H-4 people who are unable to work even when highly qualified. This would boost the overall economy for the country. Also, I think not having the work authorization for dependent H-4 visa people is somewhat against the basic human principle. Everyone who are legally here should have the right to work and earn their livelihood to be independent. I am glad that this rule is finally about to come in effect.                                                                      \n",
       "298  Allowed to work is a fundamental human right. Stripping a portion of inhabitants of this country of that fundamental right is just unfair. These are well educated, well qualified, law abiding people who came in thru the right channels. Their lives cannot be punished because they chose to support their spouse. My wife is an MBA and is forced to sit at home just because of this rule.                                                                                                                                                                                                          \n",
       "299  I would think this rule is much necessary for any country which in support of Women Empowerment...As I understand from social trend , majority of dependent workers are women .  So , if Govt . doesn' t allow the dependents to work it really hinders the professional  growth which eventually reduces personality development in women which is  against women empowerment . \\r\\r\\n\\r\\r\\nSince we are aiming at Women empowerment in all possible scenarios , I would suggest that the allowing the dependent to work will surely be a major step towards the social improvement across the globe.    \n",
       "\n",
       "     Immigrant_author  Supports                 postedDate  \n",
       "295  0                 1         2014-06-04T00:00:00-04:00  \n",
       "296  0                 0         2014-07-12T00:00:00-04:00  \n",
       "297  0                 0         2014-06-16T00:00:00-04:00  \n",
       "298  0                 0         2014-07-14T00:00:00-04:00  \n",
       "299  0                 0         2014-05-29T00:00:00-04:00  "
      ]
     },
     "execution_count": 6,
     "metadata": {},
     "output_type": "execute_result"
    }
   ],
   "source": [
    "df.tail(5)"
   ]
  },
  {
   "cell_type": "code",
   "execution_count": 7,
   "metadata": {
    "ExecuteTime": {
     "end_time": "2018-11-17T04:08:51.054157Z",
     "start_time": "2018-11-17T04:08:51.050777Z"
    }
   },
   "outputs": [
    {
     "data": {
      "text/plain": [
       "(300, 4)"
      ]
     },
     "execution_count": 7,
     "metadata": {},
     "output_type": "execute_result"
    }
   ],
   "source": [
    "df.shape"
   ]
  },
  {
   "cell_type": "code",
   "execution_count": 8,
   "metadata": {
    "ExecuteTime": {
     "end_time": "2018-11-17T04:08:51.364465Z",
     "start_time": "2018-11-17T04:08:51.360786Z"
    }
   },
   "outputs": [
    {
     "data": {
      "text/plain": [
       "Index(['Comments', 'Immigrant_author', 'Supports', 'postedDate'], dtype='object')"
      ]
     },
     "execution_count": 8,
     "metadata": {},
     "output_type": "execute_result"
    }
   ],
   "source": [
    "df.columns"
   ]
  },
  {
   "cell_type": "code",
   "execution_count": 69,
   "metadata": {},
   "outputs": [
    {
     "data": {
      "text/plain": [
       "0    217\n",
       "1    83 \n",
       "Name: Immigrant_author, dtype: int64"
      ]
     },
     "execution_count": 69,
     "metadata": {},
     "output_type": "execute_result"
    }
   ],
   "source": [
    "df['Immigrant_author'].value_counts()"
   ]
  },
  {
   "cell_type": "code",
   "execution_count": 73,
   "metadata": {
    "ExecuteTime": {
     "end_time": "2018-11-17T04:08:51.954155Z",
     "start_time": "2018-11-17T04:08:51.946743Z"
    }
   },
   "outputs": [
    {
     "data": {
      "text/plain": [
       "False    217\n",
       "True     83 \n",
       "Name: target, dtype: int64"
      ]
     },
     "execution_count": 73,
     "metadata": {},
     "output_type": "execute_result"
    }
   ],
   "source": [
    "# Create the target variable\n",
    "df['target'] = (df['Immigrant_author'] == 1)\n",
    "df['target'].value_counts()"
   ]
  },
  {
   "cell_type": "code",
   "execution_count": 74,
   "metadata": {},
   "outputs": [
    {
     "data": {
      "text/plain": [
       "383"
      ]
     },
     "execution_count": 74,
     "metadata": {},
     "output_type": "execute_result"
    }
   ],
   "source": [
    "# Oversample the target class\n",
    "targets = df[df['Immigrant_author']==1]\n",
    "df=df.append(targets)\n",
    "len(df)"
   ]
  },
  {
   "cell_type": "markdown",
   "metadata": {},
   "source": [
    "## Vectorize"
   ]
  },
  {
   "cell_type": "code",
   "execution_count": 75,
   "metadata": {
    "ExecuteTime": {
     "end_time": "2018-11-17T04:08:58.522677Z",
     "start_time": "2018-11-17T04:08:58.519914Z"
    }
   },
   "outputs": [],
   "source": [
    "tvec = TfidfVectorizer(# input='content', \n",
    "#                        encoding='utf-8', \n",
    "#                        decode_error='strict', \n",
    "                       strip_accents='unicode', \n",
    "                       lowercase=True, \n",
    "#                        preprocessor=None, \n",
    "#                        tokenizer=None, \n",
    "#                        analyzer='word', \n",
    "                       stop_words='english', \n",
    "#                        token_pattern='(?u)\\\\b\\\\w\\\\w+\\\\b', \n",
    "                       ngram_range=(1, 2), \n",
    "#                        max_df=1.0, \n",
    "#                        min_df=1, \n",
    "#                        max_features=None, \n",
    "#                        vocabulary=True, \n",
    "#                        binary=False, \n",
    "#                        dtype=<class 'numpy.int64'>, \n",
    "#                        norm='l2', \n",
    "#                        use_idf=True, \n",
    "#                        smooth_idf=True, \n",
    "#                        sublinear_tf=False\n",
    ")"
   ]
  },
  {
   "cell_type": "code",
   "execution_count": 76,
   "metadata": {
    "ExecuteTime": {
     "end_time": "2018-11-17T04:09:04.424138Z",
     "start_time": "2018-11-17T04:09:04.373503Z"
    }
   },
   "outputs": [],
   "source": [
    "cleaned = tvec.fit_transform(df['Comments'])"
   ]
  },
  {
   "cell_type": "code",
   "execution_count": 77,
   "metadata": {
    "ExecuteTime": {
     "end_time": "2018-11-17T04:09:04.665705Z",
     "start_time": "2018-11-17T04:09:04.646226Z"
    }
   },
   "outputs": [
    {
     "name": "stdout",
     "output_type": "stream",
     "text": [
      "Most common: \n",
      " \n",
      "                  0\n",
      "rule     12.714736\n",
      "work     12.709177\n",
      "h4       10.655166\n",
      "economy  8.202231 \n",
      "country  8.089063 \n",
      "people   7.878209 \n",
      "help     7.422364 \n",
      "spouses  6.903945 \n",
      "years    6.251263 \n",
      "good     6.160451 \n"
     ]
    }
   ],
   "source": [
    "# This gets used later on but it's defined here\n",
    "word_counts = pd.DataFrame(cleaned.sum(axis=0),\n",
    "                       columns=tvec.get_feature_names())\n",
    "print('Most common: \\n \\n', word_counts.T.sort_values(by=0,ascending=False).head(10))"
   ]
  },
  {
   "cell_type": "code",
   "execution_count": 78,
   "metadata": {},
   "outputs": [
    {
     "data": {
      "text/plain": [
       "(383, 10399)"
      ]
     },
     "execution_count": 78,
     "metadata": {},
     "output_type": "execute_result"
    }
   ],
   "source": [
    "cleaned.shape"
   ]
  },
  {
   "cell_type": "code",
   "execution_count": 79,
   "metadata": {},
   "outputs": [
    {
     "data": {
      "text/plain": [
       "scipy.sparse.csr.csr_matrix"
      ]
     },
     "execution_count": 79,
     "metadata": {},
     "output_type": "execute_result"
    }
   ],
   "source": [
    "type(cleaned)"
   ]
  },
  {
   "cell_type": "code",
   "execution_count": 80,
   "metadata": {},
   "outputs": [],
   "source": [
    "# pickle the vectorizer\n",
    "file = open(f'vectorizer.pkl', 'wb')\n",
    "pickle.dump(tvec, file)\n",
    "file.close()"
   ]
  },
  {
   "cell_type": "markdown",
   "metadata": {},
   "source": [
    "## Train-test Split"
   ]
  },
  {
   "cell_type": "code",
   "execution_count": 81,
   "metadata": {
    "ExecuteTime": {
     "end_time": "2018-11-17T04:09:05.288382Z",
     "start_time": "2018-11-17T04:09:05.279922Z"
    }
   },
   "outputs": [],
   "source": [
    "X = df['Comments']\n",
    "y = df['target']\n",
    "\n",
    "X_train, X_test, y_train, y_test = train_test_split(X, y, stratify=y, test_size = .3, random_state=42)"
   ]
  },
  {
   "cell_type": "code",
   "execution_count": 82,
   "metadata": {
    "ExecuteTime": {
     "end_time": "2018-11-17T04:09:06.536638Z",
     "start_time": "2018-11-17T04:09:06.533139Z"
    }
   },
   "outputs": [
    {
     "name": "stdout",
     "output_type": "stream",
     "text": [
      "268\n",
      "268\n",
      "115\n",
      "115\n"
     ]
    }
   ],
   "source": [
    "print(len(X_train))\n",
    "print(len(y_train))\n",
    "print(len(X_test))\n",
    "print(len(y_test))"
   ]
  },
  {
   "cell_type": "code",
   "execution_count": 83,
   "metadata": {
    "ExecuteTime": {
     "end_time": "2018-11-17T04:09:09.135793Z",
     "start_time": "2018-11-17T04:09:09.104559Z"
    }
   },
   "outputs": [],
   "source": [
    "# Note the difference in train and test. Don't fit on the test data! (d'oh)\n",
    "tvec_train = tvec.fit_transform(X_train)\n",
    "tvec_test  = tvec.transform(X_test)"
   ]
  },
  {
   "cell_type": "markdown",
   "metadata": {},
   "source": [
    "# Random Forest Classifier"
   ]
  },
  {
   "cell_type": "code",
   "execution_count": 84,
   "metadata": {
    "ExecuteTime": {
     "end_time": "2018-11-17T04:09:13.134535Z",
     "start_time": "2018-11-17T04:09:13.131761Z"
    }
   },
   "outputs": [],
   "source": [
    "# grid search parameters\n",
    "param_grid = {\n",
    "        'n_estimators': [100, 'warn'], \n",
    "        'max_depth': [3, 4, None],\n",
    "        'min_samples_split': [2, 5],\n",
    "        'min_samples_leaf': [1, 5],         \n",
    "        'max_features': [10, 'auto'], \n",
    "        'class_weight': [None]    \n",
    "        }"
   ]
  },
  {
   "cell_type": "code",
   "execution_count": 85,
   "metadata": {
    "ExecuteTime": {
     "end_time": "2018-11-17T04:09:13.694302Z",
     "start_time": "2018-11-17T04:09:13.626124Z"
    }
   },
   "outputs": [
    {
     "name": "stderr",
     "output_type": "stream",
     "text": [
      "//anaconda3/lib/python3.7/site-packages/sklearn/ensemble/forest.py:245: FutureWarning: The default value of n_estimators will change from 10 in version 0.20 to 100 in 0.22.\n",
      "  \"10 in version 0.20 to 100 in 0.22.\", FutureWarning)\n",
      "//anaconda3/lib/python3.7/site-packages/sklearn/ensemble/forest.py:245: FutureWarning: The default value of n_estimators will change from 10 in version 0.20 to 100 in 0.22.\n",
      "  \"10 in version 0.20 to 100 in 0.22.\", FutureWarning)\n",
      "//anaconda3/lib/python3.7/site-packages/sklearn/ensemble/forest.py:245: FutureWarning: The default value of n_estimators will change from 10 in version 0.20 to 100 in 0.22.\n",
      "  \"10 in version 0.20 to 100 in 0.22.\", FutureWarning)\n",
      "//anaconda3/lib/python3.7/site-packages/sklearn/ensemble/forest.py:245: FutureWarning: The default value of n_estimators will change from 10 in version 0.20 to 100 in 0.22.\n",
      "  \"10 in version 0.20 to 100 in 0.22.\", FutureWarning)\n",
      "//anaconda3/lib/python3.7/site-packages/sklearn/ensemble/forest.py:245: FutureWarning: The default value of n_estimators will change from 10 in version 0.20 to 100 in 0.22.\n",
      "  \"10 in version 0.20 to 100 in 0.22.\", FutureWarning)\n",
      "//anaconda3/lib/python3.7/site-packages/sklearn/ensemble/forest.py:245: FutureWarning: The default value of n_estimators will change from 10 in version 0.20 to 100 in 0.22.\n",
      "  \"10 in version 0.20 to 100 in 0.22.\", FutureWarning)\n",
      "//anaconda3/lib/python3.7/site-packages/sklearn/ensemble/forest.py:245: FutureWarning: The default value of n_estimators will change from 10 in version 0.20 to 100 in 0.22.\n",
      "  \"10 in version 0.20 to 100 in 0.22.\", FutureWarning)\n",
      "//anaconda3/lib/python3.7/site-packages/sklearn/ensemble/forest.py:245: FutureWarning: The default value of n_estimators will change from 10 in version 0.20 to 100 in 0.22.\n",
      "  \"10 in version 0.20 to 100 in 0.22.\", FutureWarning)\n",
      "//anaconda3/lib/python3.7/site-packages/sklearn/ensemble/forest.py:245: FutureWarning: The default value of n_estimators will change from 10 in version 0.20 to 100 in 0.22.\n",
      "  \"10 in version 0.20 to 100 in 0.22.\", FutureWarning)\n",
      "//anaconda3/lib/python3.7/site-packages/sklearn/ensemble/forest.py:245: FutureWarning: The default value of n_estimators will change from 10 in version 0.20 to 100 in 0.22.\n",
      "  \"10 in version 0.20 to 100 in 0.22.\", FutureWarning)\n",
      "//anaconda3/lib/python3.7/site-packages/sklearn/ensemble/forest.py:245: FutureWarning: The default value of n_estimators will change from 10 in version 0.20 to 100 in 0.22.\n",
      "  \"10 in version 0.20 to 100 in 0.22.\", FutureWarning)\n",
      "//anaconda3/lib/python3.7/site-packages/sklearn/ensemble/forest.py:245: FutureWarning: The default value of n_estimators will change from 10 in version 0.20 to 100 in 0.22.\n",
      "  \"10 in version 0.20 to 100 in 0.22.\", FutureWarning)\n",
      "//anaconda3/lib/python3.7/site-packages/sklearn/ensemble/forest.py:245: FutureWarning: The default value of n_estimators will change from 10 in version 0.20 to 100 in 0.22.\n",
      "  \"10 in version 0.20 to 100 in 0.22.\", FutureWarning)\n",
      "//anaconda3/lib/python3.7/site-packages/sklearn/ensemble/forest.py:245: FutureWarning: The default value of n_estimators will change from 10 in version 0.20 to 100 in 0.22.\n",
      "  \"10 in version 0.20 to 100 in 0.22.\", FutureWarning)\n",
      "//anaconda3/lib/python3.7/site-packages/sklearn/ensemble/forest.py:245: FutureWarning: The default value of n_estimators will change from 10 in version 0.20 to 100 in 0.22.\n",
      "  \"10 in version 0.20 to 100 in 0.22.\", FutureWarning)\n",
      "//anaconda3/lib/python3.7/site-packages/sklearn/ensemble/forest.py:245: FutureWarning: The default value of n_estimators will change from 10 in version 0.20 to 100 in 0.22.\n",
      "  \"10 in version 0.20 to 100 in 0.22.\", FutureWarning)\n",
      "//anaconda3/lib/python3.7/site-packages/sklearn/ensemble/forest.py:245: FutureWarning: The default value of n_estimators will change from 10 in version 0.20 to 100 in 0.22.\n",
      "  \"10 in version 0.20 to 100 in 0.22.\", FutureWarning)\n",
      "//anaconda3/lib/python3.7/site-packages/sklearn/ensemble/forest.py:245: FutureWarning: The default value of n_estimators will change from 10 in version 0.20 to 100 in 0.22.\n",
      "  \"10 in version 0.20 to 100 in 0.22.\", FutureWarning)\n",
      "//anaconda3/lib/python3.7/site-packages/sklearn/ensemble/forest.py:245: FutureWarning: The default value of n_estimators will change from 10 in version 0.20 to 100 in 0.22.\n",
      "  \"10 in version 0.20 to 100 in 0.22.\", FutureWarning)\n",
      "//anaconda3/lib/python3.7/site-packages/sklearn/ensemble/forest.py:245: FutureWarning: The default value of n_estimators will change from 10 in version 0.20 to 100 in 0.22.\n",
      "  \"10 in version 0.20 to 100 in 0.22.\", FutureWarning)\n",
      "//anaconda3/lib/python3.7/site-packages/sklearn/ensemble/forest.py:245: FutureWarning: The default value of n_estimators will change from 10 in version 0.20 to 100 in 0.22.\n",
      "  \"10 in version 0.20 to 100 in 0.22.\", FutureWarning)\n",
      "//anaconda3/lib/python3.7/site-packages/sklearn/ensemble/forest.py:245: FutureWarning: The default value of n_estimators will change from 10 in version 0.20 to 100 in 0.22.\n",
      "  \"10 in version 0.20 to 100 in 0.22.\", FutureWarning)\n",
      "//anaconda3/lib/python3.7/site-packages/sklearn/ensemble/forest.py:245: FutureWarning: The default value of n_estimators will change from 10 in version 0.20 to 100 in 0.22.\n",
      "  \"10 in version 0.20 to 100 in 0.22.\", FutureWarning)\n",
      "//anaconda3/lib/python3.7/site-packages/sklearn/ensemble/forest.py:245: FutureWarning: The default value of n_estimators will change from 10 in version 0.20 to 100 in 0.22.\n",
      "  \"10 in version 0.20 to 100 in 0.22.\", FutureWarning)\n",
      "//anaconda3/lib/python3.7/site-packages/sklearn/ensemble/forest.py:245: FutureWarning: The default value of n_estimators will change from 10 in version 0.20 to 100 in 0.22.\n",
      "  \"10 in version 0.20 to 100 in 0.22.\", FutureWarning)\n",
      "//anaconda3/lib/python3.7/site-packages/sklearn/ensemble/forest.py:245: FutureWarning: The default value of n_estimators will change from 10 in version 0.20 to 100 in 0.22.\n",
      "  \"10 in version 0.20 to 100 in 0.22.\", FutureWarning)\n",
      "//anaconda3/lib/python3.7/site-packages/sklearn/ensemble/forest.py:245: FutureWarning: The default value of n_estimators will change from 10 in version 0.20 to 100 in 0.22.\n",
      "  \"10 in version 0.20 to 100 in 0.22.\", FutureWarning)\n",
      "//anaconda3/lib/python3.7/site-packages/sklearn/ensemble/forest.py:245: FutureWarning: The default value of n_estimators will change from 10 in version 0.20 to 100 in 0.22.\n",
      "  \"10 in version 0.20 to 100 in 0.22.\", FutureWarning)\n",
      "//anaconda3/lib/python3.7/site-packages/sklearn/ensemble/forest.py:245: FutureWarning: The default value of n_estimators will change from 10 in version 0.20 to 100 in 0.22.\n",
      "  \"10 in version 0.20 to 100 in 0.22.\", FutureWarning)\n",
      "//anaconda3/lib/python3.7/site-packages/sklearn/ensemble/forest.py:245: FutureWarning: The default value of n_estimators will change from 10 in version 0.20 to 100 in 0.22.\n",
      "  \"10 in version 0.20 to 100 in 0.22.\", FutureWarning)\n",
      "//anaconda3/lib/python3.7/site-packages/sklearn/ensemble/forest.py:245: FutureWarning: The default value of n_estimators will change from 10 in version 0.20 to 100 in 0.22.\n",
      "  \"10 in version 0.20 to 100 in 0.22.\", FutureWarning)\n",
      "//anaconda3/lib/python3.7/site-packages/sklearn/ensemble/forest.py:245: FutureWarning: The default value of n_estimators will change from 10 in version 0.20 to 100 in 0.22.\n",
      "  \"10 in version 0.20 to 100 in 0.22.\", FutureWarning)\n",
      "//anaconda3/lib/python3.7/site-packages/sklearn/ensemble/forest.py:245: FutureWarning: The default value of n_estimators will change from 10 in version 0.20 to 100 in 0.22.\n",
      "  \"10 in version 0.20 to 100 in 0.22.\", FutureWarning)\n",
      "//anaconda3/lib/python3.7/site-packages/sklearn/ensemble/forest.py:245: FutureWarning: The default value of n_estimators will change from 10 in version 0.20 to 100 in 0.22.\n",
      "  \"10 in version 0.20 to 100 in 0.22.\", FutureWarning)\n",
      "//anaconda3/lib/python3.7/site-packages/sklearn/ensemble/forest.py:245: FutureWarning: The default value of n_estimators will change from 10 in version 0.20 to 100 in 0.22.\n",
      "  \"10 in version 0.20 to 100 in 0.22.\", FutureWarning)\n",
      "//anaconda3/lib/python3.7/site-packages/sklearn/ensemble/forest.py:245: FutureWarning: The default value of n_estimators will change from 10 in version 0.20 to 100 in 0.22.\n",
      "  \"10 in version 0.20 to 100 in 0.22.\", FutureWarning)\n"
     ]
    },
    {
     "name": "stderr",
     "output_type": "stream",
     "text": [
      "//anaconda3/lib/python3.7/site-packages/sklearn/ensemble/forest.py:245: FutureWarning: The default value of n_estimators will change from 10 in version 0.20 to 100 in 0.22.\n",
      "  \"10 in version 0.20 to 100 in 0.22.\", FutureWarning)\n",
      "//anaconda3/lib/python3.7/site-packages/sklearn/ensemble/forest.py:245: FutureWarning: The default value of n_estimators will change from 10 in version 0.20 to 100 in 0.22.\n",
      "  \"10 in version 0.20 to 100 in 0.22.\", FutureWarning)\n",
      "//anaconda3/lib/python3.7/site-packages/sklearn/ensemble/forest.py:245: FutureWarning: The default value of n_estimators will change from 10 in version 0.20 to 100 in 0.22.\n",
      "  \"10 in version 0.20 to 100 in 0.22.\", FutureWarning)\n",
      "//anaconda3/lib/python3.7/site-packages/sklearn/ensemble/forest.py:245: FutureWarning: The default value of n_estimators will change from 10 in version 0.20 to 100 in 0.22.\n",
      "  \"10 in version 0.20 to 100 in 0.22.\", FutureWarning)\n",
      "//anaconda3/lib/python3.7/site-packages/sklearn/ensemble/forest.py:245: FutureWarning: The default value of n_estimators will change from 10 in version 0.20 to 100 in 0.22.\n",
      "  \"10 in version 0.20 to 100 in 0.22.\", FutureWarning)\n",
      "//anaconda3/lib/python3.7/site-packages/sklearn/ensemble/forest.py:245: FutureWarning: The default value of n_estimators will change from 10 in version 0.20 to 100 in 0.22.\n",
      "  \"10 in version 0.20 to 100 in 0.22.\", FutureWarning)\n",
      "//anaconda3/lib/python3.7/site-packages/sklearn/ensemble/forest.py:245: FutureWarning: The default value of n_estimators will change from 10 in version 0.20 to 100 in 0.22.\n",
      "  \"10 in version 0.20 to 100 in 0.22.\", FutureWarning)\n",
      "//anaconda3/lib/python3.7/site-packages/sklearn/ensemble/forest.py:245: FutureWarning: The default value of n_estimators will change from 10 in version 0.20 to 100 in 0.22.\n",
      "  \"10 in version 0.20 to 100 in 0.22.\", FutureWarning)\n",
      "//anaconda3/lib/python3.7/site-packages/sklearn/ensemble/forest.py:245: FutureWarning: The default value of n_estimators will change from 10 in version 0.20 to 100 in 0.22.\n",
      "  \"10 in version 0.20 to 100 in 0.22.\", FutureWarning)\n",
      "//anaconda3/lib/python3.7/site-packages/sklearn/ensemble/forest.py:245: FutureWarning: The default value of n_estimators will change from 10 in version 0.20 to 100 in 0.22.\n",
      "  \"10 in version 0.20 to 100 in 0.22.\", FutureWarning)\n",
      "//anaconda3/lib/python3.7/site-packages/sklearn/ensemble/forest.py:245: FutureWarning: The default value of n_estimators will change from 10 in version 0.20 to 100 in 0.22.\n",
      "  \"10 in version 0.20 to 100 in 0.22.\", FutureWarning)\n",
      "//anaconda3/lib/python3.7/site-packages/sklearn/ensemble/forest.py:245: FutureWarning: The default value of n_estimators will change from 10 in version 0.20 to 100 in 0.22.\n",
      "  \"10 in version 0.20 to 100 in 0.22.\", FutureWarning)\n",
      "//anaconda3/lib/python3.7/site-packages/sklearn/ensemble/forest.py:245: FutureWarning: The default value of n_estimators will change from 10 in version 0.20 to 100 in 0.22.\n",
      "  \"10 in version 0.20 to 100 in 0.22.\", FutureWarning)\n",
      "//anaconda3/lib/python3.7/site-packages/sklearn/ensemble/forest.py:245: FutureWarning: The default value of n_estimators will change from 10 in version 0.20 to 100 in 0.22.\n",
      "  \"10 in version 0.20 to 100 in 0.22.\", FutureWarning)\n",
      "//anaconda3/lib/python3.7/site-packages/sklearn/ensemble/forest.py:245: FutureWarning: The default value of n_estimators will change from 10 in version 0.20 to 100 in 0.22.\n",
      "  \"10 in version 0.20 to 100 in 0.22.\", FutureWarning)\n",
      "//anaconda3/lib/python3.7/site-packages/sklearn/ensemble/forest.py:245: FutureWarning: The default value of n_estimators will change from 10 in version 0.20 to 100 in 0.22.\n",
      "  \"10 in version 0.20 to 100 in 0.22.\", FutureWarning)\n",
      "//anaconda3/lib/python3.7/site-packages/sklearn/ensemble/forest.py:245: FutureWarning: The default value of n_estimators will change from 10 in version 0.20 to 100 in 0.22.\n",
      "  \"10 in version 0.20 to 100 in 0.22.\", FutureWarning)\n",
      "//anaconda3/lib/python3.7/site-packages/sklearn/ensemble/forest.py:245: FutureWarning: The default value of n_estimators will change from 10 in version 0.20 to 100 in 0.22.\n",
      "  \"10 in version 0.20 to 100 in 0.22.\", FutureWarning)\n",
      "//anaconda3/lib/python3.7/site-packages/sklearn/ensemble/forest.py:245: FutureWarning: The default value of n_estimators will change from 10 in version 0.20 to 100 in 0.22.\n",
      "  \"10 in version 0.20 to 100 in 0.22.\", FutureWarning)\n",
      "//anaconda3/lib/python3.7/site-packages/sklearn/ensemble/forest.py:245: FutureWarning: The default value of n_estimators will change from 10 in version 0.20 to 100 in 0.22.\n",
      "  \"10 in version 0.20 to 100 in 0.22.\", FutureWarning)\n",
      "//anaconda3/lib/python3.7/site-packages/sklearn/ensemble/forest.py:245: FutureWarning: The default value of n_estimators will change from 10 in version 0.20 to 100 in 0.22.\n",
      "  \"10 in version 0.20 to 100 in 0.22.\", FutureWarning)\n",
      "//anaconda3/lib/python3.7/site-packages/sklearn/ensemble/forest.py:245: FutureWarning: The default value of n_estimators will change from 10 in version 0.20 to 100 in 0.22.\n",
      "  \"10 in version 0.20 to 100 in 0.22.\", FutureWarning)\n",
      "//anaconda3/lib/python3.7/site-packages/sklearn/ensemble/forest.py:245: FutureWarning: The default value of n_estimators will change from 10 in version 0.20 to 100 in 0.22.\n",
      "  \"10 in version 0.20 to 100 in 0.22.\", FutureWarning)\n",
      "//anaconda3/lib/python3.7/site-packages/sklearn/ensemble/forest.py:245: FutureWarning: The default value of n_estimators will change from 10 in version 0.20 to 100 in 0.22.\n",
      "  \"10 in version 0.20 to 100 in 0.22.\", FutureWarning)\n",
      "//anaconda3/lib/python3.7/site-packages/sklearn/ensemble/forest.py:245: FutureWarning: The default value of n_estimators will change from 10 in version 0.20 to 100 in 0.22.\n",
      "  \"10 in version 0.20 to 100 in 0.22.\", FutureWarning)\n",
      "//anaconda3/lib/python3.7/site-packages/sklearn/ensemble/forest.py:245: FutureWarning: The default value of n_estimators will change from 10 in version 0.20 to 100 in 0.22.\n",
      "  \"10 in version 0.20 to 100 in 0.22.\", FutureWarning)\n",
      "//anaconda3/lib/python3.7/site-packages/sklearn/ensemble/forest.py:245: FutureWarning: The default value of n_estimators will change from 10 in version 0.20 to 100 in 0.22.\n",
      "  \"10 in version 0.20 to 100 in 0.22.\", FutureWarning)\n",
      "//anaconda3/lib/python3.7/site-packages/sklearn/ensemble/forest.py:245: FutureWarning: The default value of n_estimators will change from 10 in version 0.20 to 100 in 0.22.\n",
      "  \"10 in version 0.20 to 100 in 0.22.\", FutureWarning)\n",
      "//anaconda3/lib/python3.7/site-packages/sklearn/ensemble/forest.py:245: FutureWarning: The default value of n_estimators will change from 10 in version 0.20 to 100 in 0.22.\n",
      "  \"10 in version 0.20 to 100 in 0.22.\", FutureWarning)\n",
      "//anaconda3/lib/python3.7/site-packages/sklearn/ensemble/forest.py:245: FutureWarning: The default value of n_estimators will change from 10 in version 0.20 to 100 in 0.22.\n",
      "  \"10 in version 0.20 to 100 in 0.22.\", FutureWarning)\n",
      "//anaconda3/lib/python3.7/site-packages/sklearn/ensemble/forest.py:245: FutureWarning: The default value of n_estimators will change from 10 in version 0.20 to 100 in 0.22.\n",
      "  \"10 in version 0.20 to 100 in 0.22.\", FutureWarning)\n",
      "//anaconda3/lib/python3.7/site-packages/sklearn/ensemble/forest.py:245: FutureWarning: The default value of n_estimators will change from 10 in version 0.20 to 100 in 0.22.\n",
      "  \"10 in version 0.20 to 100 in 0.22.\", FutureWarning)\n",
      "//anaconda3/lib/python3.7/site-packages/sklearn/ensemble/forest.py:245: FutureWarning: The default value of n_estimators will change from 10 in version 0.20 to 100 in 0.22.\n",
      "  \"10 in version 0.20 to 100 in 0.22.\", FutureWarning)\n"
     ]
    },
    {
     "name": "stdout",
     "output_type": "stream",
     "text": [
      "{'class_weight': None, 'max_depth': None, 'max_features': 'auto', 'min_samples_leaf': 1, 'min_samples_split': 5, 'n_estimators': 100}\n"
     ]
    },
    {
     "name": "stderr",
     "output_type": "stream",
     "text": [
      "//anaconda3/lib/python3.7/site-packages/sklearn/ensemble/forest.py:245: FutureWarning: The default value of n_estimators will change from 10 in version 0.20 to 100 in 0.22.\n",
      "  \"10 in version 0.20 to 100 in 0.22.\", FutureWarning)\n",
      "//anaconda3/lib/python3.7/site-packages/sklearn/ensemble/forest.py:245: FutureWarning: The default value of n_estimators will change from 10 in version 0.20 to 100 in 0.22.\n",
      "  \"10 in version 0.20 to 100 in 0.22.\", FutureWarning)\n",
      "//anaconda3/lib/python3.7/site-packages/sklearn/ensemble/forest.py:245: FutureWarning: The default value of n_estimators will change from 10 in version 0.20 to 100 in 0.22.\n",
      "  \"10 in version 0.20 to 100 in 0.22.\", FutureWarning)\n",
      "//anaconda3/lib/python3.7/site-packages/sklearn/model_selection/_search.py:813: DeprecationWarning: The default of the `iid` parameter will change from True to False in version 0.22 and will be removed in 0.24. This will change numeric results when test-set sizes are unequal.\n",
      "  DeprecationWarning)\n"
     ]
    }
   ],
   "source": [
    "# conduct gridsearch\n",
    "grid = GridSearchCV(RandomForestClassifier(), param_grid=param_grid, n_jobs = 1, cv=3)\n",
    "grid.fit(tvec_train, y_train)\n",
    "print(grid.best_params_)"
   ]
  },
  {
   "cell_type": "markdown",
   "metadata": {},
   "source": [
    "{'class_weight': None, 'max_depth': None, 'min_samples_leaf': 5, 'min_samples_split': 15, 'n_estimators': 150}"
   ]
  },
  {
   "cell_type": "code",
   "execution_count": 87,
   "metadata": {},
   "outputs": [
    {
     "name": "stdout",
     "output_type": "stream",
     "text": [
      "RandomForestClassifier(bootstrap=True, class_weight=None, criterion='gini',\n",
      "                       max_depth=None, max_features='auto', max_leaf_nodes=None,\n",
      "                       min_impurity_decrease=0.0, min_impurity_split=None,\n",
      "                       min_samples_leaf=1, min_samples_split=5,\n",
      "                       min_weight_fraction_leaf=0.0, n_estimators=100,\n",
      "                       n_jobs=None, oob_score=False, random_state=None,\n",
      "                       verbose=0, warm_start=False)\n"
     ]
    }
   ],
   "source": [
    "# Instantiate model using those parameters\n",
    "model = grid.best_estimator_\n",
    "print(model)"
   ]
  },
  {
   "cell_type": "markdown",
   "metadata": {},
   "source": [
    "#### Predict"
   ]
  },
  {
   "cell_type": "code",
   "execution_count": 88,
   "metadata": {
    "ExecuteTime": {
     "end_time": "2018-11-17T04:09:44.282001Z",
     "start_time": "2018-11-17T04:09:44.275896Z"
    }
   },
   "outputs": [
    {
     "name": "stdout",
     "output_type": "stream",
     "text": [
      "115\n"
     ]
    },
    {
     "data": {
      "text/plain": [
       "115"
      ]
     },
     "execution_count": 88,
     "metadata": {},
     "output_type": "execute_result"
    }
   ],
   "source": [
    "# Predict on the test data\n",
    "predictions=model.predict(tvec_test)\n",
    "print(len(y_test))\n",
    "len(predictions)"
   ]
  },
  {
   "cell_type": "code",
   "execution_count": 89,
   "metadata": {
    "ExecuteTime": {
     "end_time": "2018-11-17T04:09:45.631273Z",
     "start_time": "2018-11-17T04:09:45.625174Z"
    }
   },
   "outputs": [
    {
     "data": {
      "text/plain": [
       "115"
      ]
     },
     "execution_count": 89,
     "metadata": {},
     "output_type": "execute_result"
    }
   ],
   "source": [
    "# Probabilities\n",
    "probabilities = model.predict_proba(tvec_test)[:,1]\n",
    "len(probabilities)"
   ]
  },
  {
   "cell_type": "code",
   "execution_count": 90,
   "metadata": {
    "ExecuteTime": {
     "end_time": "2018-11-17T04:09:49.980594Z",
     "start_time": "2018-11-17T04:09:49.977580Z"
    }
   },
   "outputs": [
    {
     "data": {
      "text/plain": [
       "<bound method BaseEstimator.get_params of RandomForestClassifier(bootstrap=True, class_weight=None, criterion='gini',\n",
       "                       max_depth=None, max_features='auto', max_leaf_nodes=None,\n",
       "                       min_impurity_decrease=0.0, min_impurity_split=None,\n",
       "                       min_samples_leaf=1, min_samples_split=5,\n",
       "                       min_weight_fraction_leaf=0.0, n_estimators=100,\n",
       "                       n_jobs=None, oob_score=False, random_state=None,\n",
       "                       verbose=0, warm_start=False)>"
      ]
     },
     "execution_count": 90,
     "metadata": {},
     "output_type": "execute_result"
    }
   ],
   "source": [
    "model.get_params"
   ]
  },
  {
   "cell_type": "code",
   "execution_count": 91,
   "metadata": {},
   "outputs": [
    {
     "data": {
      "text/plain": [
       "0.9217391304347826"
      ]
     },
     "execution_count": 91,
     "metadata": {},
     "output_type": "execute_result"
    }
   ],
   "source": [
    "# Accuracy score\n",
    "metrics.accuracy_score(y_test, predictions)"
   ]
  },
  {
   "cell_type": "code",
   "execution_count": 92,
   "metadata": {
    "ExecuteTime": {
     "end_time": "2018-11-17T04:09:55.996017Z",
     "start_time": "2018-11-17T04:09:55.983568Z"
    }
   },
   "outputs": [
    {
     "data": {
      "text/html": [
       "<div>\n",
       "<style scoped>\n",
       "    .dataframe tbody tr th:only-of-type {\n",
       "        vertical-align: middle;\n",
       "    }\n",
       "\n",
       "    .dataframe tbody tr th {\n",
       "        vertical-align: top;\n",
       "    }\n",
       "\n",
       "    .dataframe thead th {\n",
       "        text-align: right;\n",
       "    }\n",
       "</style>\n",
       "<table border=\"1\" class=\"dataframe\">\n",
       "  <thead>\n",
       "    <tr style=\"text-align: right;\">\n",
       "      <th></th>\n",
       "      <th>Comments</th>\n",
       "      <th>target</th>\n",
       "      <th>predictions</th>\n",
       "      <th>probabilities</th>\n",
       "    </tr>\n",
       "  </thead>\n",
       "  <tbody>\n",
       "    <tr>\n",
       "      <th>0</th>\n",
       "      <td>I think it is a welcome change, if it has been finalized that H4 spouses(certain H4s as defined) can get work authorization. Myself being a working mom and now on H4, and unable to work anymore or find a suitable job closeby, I believe every qualifying person should be able to work and earn his/her money. This will relieve the financial burden on a single working person , and improve overall health of the family and thus the society. Sure I will whole heartedly welcome H4 spouses getting work authorization</td>\n",
       "      <td>True</td>\n",
       "      <td>True</td>\n",
       "      <td>0.711000</td>\n",
       "    </tr>\n",
       "    <tr>\n",
       "      <th>1</th>\n",
       "      <td>Thanks to the Government to consider the concerns of H4 dependents.This will motivate and give energy to serve beter in USA for various clints. Also good opportunity to use our skills rather than sitting at home idle.</td>\n",
       "      <td>True</td>\n",
       "      <td>True</td>\n",
       "      <td>0.643889</td>\n",
       "    </tr>\n",
       "    <tr>\n",
       "      <th>2</th>\n",
       "      <td>Right step in the right direction. It will provide a boost to the economy. Being forced to be a single income house hold for long doesn't do good for the housing market or the economy in general. The other advantage of this is that it helps integrate spouses to the society and gets them ready when the green card eventually happens.From a personal perspective , it makes the decision to to stay back Vs go to Bangalore a lot easier. No more \"I am sacrificing my career\" arguments :-) .</td>\n",
       "      <td>True</td>\n",
       "      <td>False</td>\n",
       "      <td>0.401095</td>\n",
       "    </tr>\n",
       "    <tr>\n",
       "      <th>3</th>\n",
       "      <td>THis is a very good option to bring in ASAP. I am working in USA on H1B. When I got married, my wife who is an engineering gold medalist was working in India for one of the good Oil MNC. As she wanted to accompany me to USA she did a big sacrafice on resigning her good position and job  to accompany me here on H4. As we were not successful to get the H1B Lottery she did her Masters (MS) in NYU university and completed with 3.85 GPA. We are a happy family with 2 kids now. As only reason she is not having a valid work permit she could not contribute any of her skills she studied to make her kid's life better than what it is now with a single salary. THis option will give her a opportunity to utilize her skills she studied for betterment of her, her family and also for this country too.</td>\n",
       "      <td>True</td>\n",
       "      <td>True</td>\n",
       "      <td>0.886500</td>\n",
       "    </tr>\n",
       "    <tr>\n",
       "      <th>4</th>\n",
       "      <td>It is a very good move by USCIS. I did my Master’s in business administration and then certification program in HR from USA. I used to work in the past but now I am on H-4 visa so cannot do anything. Thank you for considering this policy change.</td>\n",
       "      <td>True</td>\n",
       "      <td>False</td>\n",
       "      <td>0.311476</td>\n",
       "    </tr>\n",
       "  </tbody>\n",
       "</table>\n",
       "</div>"
      ],
      "text/plain": [
       "                                                                                                                                                                                                                                                                                                                                                                                                                                                                                                                                                                                                                                                                                                                                                                                                                     Comments  \\\n",
       "0  I think it is a welcome change, if it has been finalized that H4 spouses(certain H4s as defined) can get work authorization. Myself being a working mom and now on H4, and unable to work anymore or find a suitable job closeby, I believe every qualifying person should be able to work and earn his/her money. This will relieve the financial burden on a single working person , and improve overall health of the family and thus the society. Sure I will whole heartedly welcome H4 spouses getting work authorization                                                                                                                                                                                                                                                                                              \n",
       "1  Thanks to the Government to consider the concerns of H4 dependents.This will motivate and give energy to serve beter in USA for various clints. Also good opportunity to use our skills rather than sitting at home idle.                                                                                                                                                                                                                                                                                                                                                                                                                                                                                                                                                                                                    \n",
       "2  Right step in the right direction. It will provide a boost to the economy. Being forced to be a single income house hold for long doesn't do good for the housing market or the economy in general. The other advantage of this is that it helps integrate spouses to the society and gets them ready when the green card eventually happens.From a personal perspective , it makes the decision to to stay back Vs go to Bangalore a lot easier. No more \"I am sacrificing my career\" arguments :-) .                                                                                                                                                                                                                                                                                                                       \n",
       "3  THis is a very good option to bring in ASAP. I am working in USA on H1B. When I got married, my wife who is an engineering gold medalist was working in India for one of the good Oil MNC. As she wanted to accompany me to USA she did a big sacrafice on resigning her good position and job  to accompany me here on H4. As we were not successful to get the H1B Lottery she did her Masters (MS) in NYU university and completed with 3.85 GPA. We are a happy family with 2 kids now. As only reason she is not having a valid work permit she could not contribute any of her skills she studied to make her kid's life better than what it is now with a single salary. THis option will give her a opportunity to utilize her skills she studied for betterment of her, her family and also for this country too.   \n",
       "4  It is a very good move by USCIS. I did my Master’s in business administration and then certification program in HR from USA. I used to work in the past but now I am on H-4 visa so cannot do anything. Thank you for considering this policy change.                                                                                                                                                                                                                                                                                                                                                                                                                                                                                                                                                                        \n",
       "\n",
       "   target  predictions  probabilities  \n",
       "0  True    True         0.711000       \n",
       "1  True    True         0.643889       \n",
       "2  True    False        0.401095       \n",
       "3  True    True         0.886500       \n",
       "4  True    False        0.311476       "
      ]
     },
     "execution_count": 92,
     "metadata": {},
     "output_type": "execute_result"
    }
   ],
   "source": [
    "# Convert each component to a pandas dateframe\n",
    "df_probs=pd.DataFrame(probabilities, columns=['probabilities']).reset_index(drop=True)\n",
    "df_preds=pd.DataFrame(predictions, columns=['predictions']).reset_index(drop=True)\n",
    "df_Xtest=pd.DataFrame(X_test).reset_index(drop=True)\n",
    "df_ytest=pd.DataFrame(y_test).reset_index(drop=True)\n",
    "# Reset a new index because we removed all the training data but never reset the index, so it has gaps\n",
    "# and drop=True gets rid of the old index\n",
    "\n",
    "final=pd.concat([df_Xtest, df_ytest, df_preds, df_probs], axis=1)\n",
    "final.head()"
   ]
  },
  {
   "cell_type": "code",
   "execution_count": 93,
   "metadata": {
    "ExecuteTime": {
     "end_time": "2018-11-17T04:09:58.348729Z",
     "start_time": "2018-11-17T04:09:58.338355Z"
    }
   },
   "outputs": [
    {
     "data": {
      "text/html": [
       "<div>\n",
       "<style scoped>\n",
       "    .dataframe tbody tr th:only-of-type {\n",
       "        vertical-align: middle;\n",
       "    }\n",
       "\n",
       "    .dataframe tbody tr th {\n",
       "        vertical-align: top;\n",
       "    }\n",
       "\n",
       "    .dataframe thead th {\n",
       "        text-align: right;\n",
       "    }\n",
       "</style>\n",
       "<table border=\"1\" class=\"dataframe\">\n",
       "  <thead>\n",
       "    <tr style=\"text-align: right;\">\n",
       "      <th></th>\n",
       "      <th>Comments</th>\n",
       "      <th>target</th>\n",
       "      <th>predictions</th>\n",
       "      <th>probabilities</th>\n",
       "    </tr>\n",
       "  </thead>\n",
       "  <tbody>\n",
       "    <tr>\n",
       "      <th>21</th>\n",
       "      <td>Great news, much-awaited rule.\\r\\r\\nAll the qualified H4 spouses can work and live happily and don't forget they will pay taxes and contribute to US economy.\\r\\r\\nWe H1 people contribute to US economy in each and every aspect, why our spouses are not allowed to work and stay at homes?\\r\\r\\n\\r\\r\\nI would love if this rule allows H4 people to give work authorization irrespective of immigration petition filed.\\r\\r\\n\\r\\r\\nI really welcome this rule and appreciate for the initiative.</td>\n",
       "      <td>False</td>\n",
       "      <td>False</td>\n",
       "      <td>0.492333</td>\n",
       "    </tr>\n",
       "    <tr>\n",
       "      <th>42</th>\n",
       "      <td>This initiative will help experienced/sound knowledge spouse to work and contribute to United Nations income and as well generate income for themselves. This will let many Families to have flexibility to generate income and improve the standard of living. I am an MBA with 6 years of experience in business Analysis and now sitting at home accompanying my spouse who has H1b. We would honor the move by US govt. Thank you for the opportunity.</td>\n",
       "      <td>True</td>\n",
       "      <td>False</td>\n",
       "      <td>0.469929</td>\n",
       "    </tr>\n",
       "    <tr>\n",
       "      <th>45</th>\n",
       "      <td>Its high time this rule is implemented .After investing my time and money in relocating to another country and gaining my MBA from a university in Iowa I am now back in my home country trying to start my career and life all over again. How come you need our spouses but not their skilled counterparts when we have done things the legal way and paid our taxes. How is it okay for illegal immigrants to get citizenship and not us. Please pass this rule and make America the land of opportunity and equality it used to be.</td>\n",
       "      <td>True</td>\n",
       "      <td>True</td>\n",
       "      <td>0.539825</td>\n",
       "    </tr>\n",
       "    <tr>\n",
       "      <th>79</th>\n",
       "      <td>Its high time this rule is implemented .After investing my time and money in relocating to another country and gaining my MBA from a university in Iowa I am now back in my home country trying to start my career and life all over again. How come you need our spouses but not their skilled counterparts when we have done things the legal way and paid our taxes. How is it okay for illegal immigrants to get citizenship and not us. Please pass this rule and make America the land of opportunity and equality it used to be.</td>\n",
       "      <td>True</td>\n",
       "      <td>True</td>\n",
       "      <td>0.539825</td>\n",
       "    </tr>\n",
       "    <tr>\n",
       "      <th>81</th>\n",
       "      <td>This initiative will help experienced/sound knowledge spouse to work and contribute to United Nations income and as well generate income for themselves. This will let many Families to have flexibility to generate income and improve the standard of living. I am an MBA with 6 years of experience in business Analysis and now sitting at home accompanying my spouse who has H1b. We would honor the move by US govt. Thank you for the opportunity.</td>\n",
       "      <td>True</td>\n",
       "      <td>False</td>\n",
       "      <td>0.469929</td>\n",
       "    </tr>\n",
       "  </tbody>\n",
       "</table>\n",
       "</div>"
      ],
      "text/plain": [
       "                                                                                                                                                                                                                                                                                                                                                                                                                                                                                                                                   Comments  \\\n",
       "21  Great news, much-awaited rule.\\r\\r\\nAll the qualified H4 spouses can work and live happily and don't forget they will pay taxes and contribute to US economy.\\r\\r\\nWe H1 people contribute to US economy in each and every aspect, why our spouses are not allowed to work and stay at homes?\\r\\r\\n\\r\\r\\nI would love if this rule allows H4 people to give work authorization irrespective of immigration petition filed.\\r\\r\\n\\r\\r\\nI really welcome this rule and appreciate for the initiative.                                       \n",
       "42  This initiative will help experienced/sound knowledge spouse to work and contribute to United Nations income and as well generate income for themselves. This will let many Families to have flexibility to generate income and improve the standard of living. I am an MBA with 6 years of experience in business Analysis and now sitting at home accompanying my spouse who has H1b. We would honor the move by US govt. Thank you for the opportunity.                                                                                \n",
       "45  Its high time this rule is implemented .After investing my time and money in relocating to another country and gaining my MBA from a university in Iowa I am now back in my home country trying to start my career and life all over again. How come you need our spouses but not their skilled counterparts when we have done things the legal way and paid our taxes. How is it okay for illegal immigrants to get citizenship and not us. Please pass this rule and make America the land of opportunity and equality it used to be.   \n",
       "79  Its high time this rule is implemented .After investing my time and money in relocating to another country and gaining my MBA from a university in Iowa I am now back in my home country trying to start my career and life all over again. How come you need our spouses but not their skilled counterparts when we have done things the legal way and paid our taxes. How is it okay for illegal immigrants to get citizenship and not us. Please pass this rule and make America the land of opportunity and equality it used to be.   \n",
       "81  This initiative will help experienced/sound knowledge spouse to work and contribute to United Nations income and as well generate income for themselves. This will let many Families to have flexibility to generate income and improve the standard of living. I am an MBA with 6 years of experience in business Analysis and now sitting at home accompanying my spouse who has H1b. We would honor the move by US govt. Thank you for the opportunity.                                                                                \n",
       "\n",
       "    target  predictions  probabilities  \n",
       "21  False   False        0.492333       \n",
       "42  True    False        0.469929       \n",
       "45  True    True         0.539825       \n",
       "79  True    True         0.539825       \n",
       "81  True    False        0.469929       "
      ]
     },
     "execution_count": 93,
     "metadata": {},
     "output_type": "execute_result"
    }
   ],
   "source": [
    "# Let's look at some that had intermediate probability\n",
    "final[(final['probabilities']>0.45) & (final['probabilities']<0.55)]"
   ]
  },
  {
   "cell_type": "code",
   "execution_count": 94,
   "metadata": {
    "ExecuteTime": {
     "end_time": "2018-11-17T04:10:04.528122Z",
     "start_time": "2018-11-17T04:10:04.521582Z"
    }
   },
   "outputs": [
    {
     "name": "stdout",
     "output_type": "stream",
     "text": [
      "              precision    recall  f1-score   support\n",
      "\n",
      "       False       0.89      0.98      0.93        65\n",
      "        True       0.98      0.84      0.90        50\n",
      "\n",
      "    accuracy                           0.92       115\n",
      "   macro avg       0.93      0.91      0.92       115\n",
      "weighted avg       0.93      0.92      0.92       115\n",
      "\n"
     ]
    }
   ],
   "source": [
    "from sklearn import metrics\n",
    "print(metrics.classification_report(y_test, predictions))\n",
    "# Note: in a previous iteration, recall was .28!!"
   ]
  },
  {
   "cell_type": "markdown",
   "metadata": {},
   "source": [
    "#### Feature Importance "
   ]
  },
  {
   "cell_type": "code",
   "execution_count": 95,
   "metadata": {
    "ExecuteTime": {
     "end_time": "2018-11-17T04:10:12.910784Z",
     "start_time": "2018-11-17T04:10:12.888505Z"
    }
   },
   "outputs": [
    {
     "data": {
      "text/html": [
       "<div>\n",
       "<style scoped>\n",
       "    .dataframe tbody tr th:only-of-type {\n",
       "        vertical-align: middle;\n",
       "    }\n",
       "\n",
       "    .dataframe tbody tr th {\n",
       "        vertical-align: top;\n",
       "    }\n",
       "\n",
       "    .dataframe thead th {\n",
       "        text-align: right;\n",
       "    }\n",
       "</style>\n",
       "<table border=\"1\" class=\"dataframe\">\n",
       "  <thead>\n",
       "    <tr style=\"text-align: right;\">\n",
       "      <th></th>\n",
       "      <th>000</th>\n",
       "      <th>000 new</th>\n",
       "      <th>0001</th>\n",
       "      <th>0001 way</th>\n",
       "      <th>0017</th>\n",
       "      <th>0017 0001</th>\n",
       "      <th>0017 5602</th>\n",
       "      <th>0017 dear</th>\n",
       "      <th>065</th>\n",
       "      <th>065 existing</th>\n",
       "      <th>...</th>\n",
       "      <th>youth need</th>\n",
       "      <th>yrs</th>\n",
       "      <th>yrs companies</th>\n",
       "      <th>yrs h1b</th>\n",
       "      <th>yrs h4</th>\n",
       "      <th>yrs job</th>\n",
       "      <th>yrs lost</th>\n",
       "      <th>yrs tired</th>\n",
       "      <th>zealand</th>\n",
       "      <th>zealand australia</th>\n",
       "    </tr>\n",
       "  </thead>\n",
       "  <tbody>\n",
       "    <tr>\n",
       "      <th>0</th>\n",
       "      <td>0.0</td>\n",
       "      <td>0.0</td>\n",
       "      <td>0.0</td>\n",
       "      <td>0.0</td>\n",
       "      <td>0.0</td>\n",
       "      <td>0.0</td>\n",
       "      <td>0.0</td>\n",
       "      <td>0.0</td>\n",
       "      <td>0.0</td>\n",
       "      <td>0.0</td>\n",
       "      <td>...</td>\n",
       "      <td>0.0</td>\n",
       "      <td>0.0</td>\n",
       "      <td>0.0</td>\n",
       "      <td>0.0</td>\n",
       "      <td>0.0</td>\n",
       "      <td>0.0</td>\n",
       "      <td>0.0</td>\n",
       "      <td>0.0</td>\n",
       "      <td>0.0</td>\n",
       "      <td>0.0</td>\n",
       "    </tr>\n",
       "    <tr>\n",
       "      <th>1</th>\n",
       "      <td>0.0</td>\n",
       "      <td>0.0</td>\n",
       "      <td>0.0</td>\n",
       "      <td>0.0</td>\n",
       "      <td>0.0</td>\n",
       "      <td>0.0</td>\n",
       "      <td>0.0</td>\n",
       "      <td>0.0</td>\n",
       "      <td>0.0</td>\n",
       "      <td>0.0</td>\n",
       "      <td>...</td>\n",
       "      <td>0.0</td>\n",
       "      <td>0.0</td>\n",
       "      <td>0.0</td>\n",
       "      <td>0.0</td>\n",
       "      <td>0.0</td>\n",
       "      <td>0.0</td>\n",
       "      <td>0.0</td>\n",
       "      <td>0.0</td>\n",
       "      <td>0.0</td>\n",
       "      <td>0.0</td>\n",
       "    </tr>\n",
       "  </tbody>\n",
       "</table>\n",
       "<p>2 rows × 8473 columns</p>\n",
       "</div>"
      ],
      "text/plain": [
       "   000  000 new  0001  0001 way  0017  0017 0001  0017 5602  0017 dear  065  \\\n",
       "0  0.0  0.0      0.0   0.0       0.0   0.0        0.0        0.0        0.0   \n",
       "1  0.0  0.0      0.0   0.0       0.0   0.0        0.0        0.0        0.0   \n",
       "\n",
       "   065 existing  ...  youth need  yrs  yrs companies  yrs h1b  yrs h4  \\\n",
       "0  0.0           ...  0.0         0.0  0.0            0.0      0.0      \n",
       "1  0.0           ...  0.0         0.0  0.0            0.0      0.0      \n",
       "\n",
       "   yrs job  yrs lost  yrs tired  zealand  zealand australia  \n",
       "0  0.0      0.0       0.0        0.0      0.0                \n",
       "1  0.0      0.0       0.0        0.0      0.0                \n",
       "\n",
       "[2 rows x 8473 columns]"
      ]
     },
     "execution_count": 95,
     "metadata": {},
     "output_type": "execute_result"
    }
   ],
   "source": [
    "df_x  = pd.DataFrame(tvec_test.todense(),\n",
    "             columns=tvec.get_feature_names())\n",
    "df_x.head(2)"
   ]
  },
  {
   "cell_type": "code",
   "execution_count": 96,
   "metadata": {
    "ExecuteTime": {
     "end_time": "2018-11-17T04:10:15.858929Z",
     "start_time": "2018-11-17T04:10:15.846371Z"
    }
   },
   "outputs": [
    {
     "data": {
      "text/html": [
       "<div>\n",
       "<style scoped>\n",
       "    .dataframe tbody tr th:only-of-type {\n",
       "        vertical-align: middle;\n",
       "    }\n",
       "\n",
       "    .dataframe tbody tr th {\n",
       "        vertical-align: top;\n",
       "    }\n",
       "\n",
       "    .dataframe thead th {\n",
       "        text-align: right;\n",
       "    }\n",
       "</style>\n",
       "<table border=\"1\" class=\"dataframe\">\n",
       "  <thead>\n",
       "    <tr style=\"text-align: right;\">\n",
       "      <th></th>\n",
       "      <th>feature</th>\n",
       "      <th>importance</th>\n",
       "    </tr>\n",
       "  </thead>\n",
       "  <tbody>\n",
       "    <tr>\n",
       "      <th>8049</th>\n",
       "      <td>wife</td>\n",
       "      <td>0.032721</td>\n",
       "    </tr>\n",
       "    <tr>\n",
       "      <th>8386</th>\n",
       "      <td>years</td>\n",
       "      <td>0.017818</td>\n",
       "    </tr>\n",
       "    <tr>\n",
       "      <th>969</th>\n",
       "      <td>career</td>\n",
       "      <td>0.015298</td>\n",
       "    </tr>\n",
       "    <tr>\n",
       "      <th>112</th>\n",
       "      <td>able</td>\n",
       "      <td>0.012183</td>\n",
       "    </tr>\n",
       "    <tr>\n",
       "      <th>3946</th>\n",
       "      <td>india</td>\n",
       "      <td>0.011183</td>\n",
       "    </tr>\n",
       "    <tr>\n",
       "      <th>2607</th>\n",
       "      <td>family</td>\n",
       "      <td>0.009607</td>\n",
       "    </tr>\n",
       "    <tr>\n",
       "      <th>4434</th>\n",
       "      <td>life</td>\n",
       "      <td>0.009319</td>\n",
       "    </tr>\n",
       "    <tr>\n",
       "      <th>1714</th>\n",
       "      <td>degree</td>\n",
       "      <td>0.007878</td>\n",
       "    </tr>\n",
       "    <tr>\n",
       "      <th>3540</th>\n",
       "      <td>home</td>\n",
       "      <td>0.007640</td>\n",
       "    </tr>\n",
       "    <tr>\n",
       "      <th>4542</th>\n",
       "      <td>live</td>\n",
       "      <td>0.007008</td>\n",
       "    </tr>\n",
       "  </tbody>\n",
       "</table>\n",
       "</div>"
      ],
      "text/plain": [
       "     feature  importance\n",
       "8049  wife    0.032721  \n",
       "8386  years   0.017818  \n",
       "969   career  0.015298  \n",
       "112   able    0.012183  \n",
       "3946  india   0.011183  \n",
       "2607  family  0.009607  \n",
       "4434  life    0.009319  \n",
       "1714  degree  0.007878  \n",
       "3540  home    0.007640  \n",
       "4542  live    0.007008  "
      ]
     },
     "execution_count": 96,
     "metadata": {},
     "output_type": "execute_result"
    }
   ],
   "source": [
    "fi = pd.DataFrame({\n",
    "        'feature':df_x.columns,\n",
    "        'importance':model.feature_importances_\n",
    "    })\n",
    "\n",
    "fi.sort_values('importance', ascending=False, inplace=True)\n",
    "fi.head(10)"
   ]
  },
  {
   "cell_type": "code",
   "execution_count": 97,
   "metadata": {
    "ExecuteTime": {
     "end_time": "2018-11-17T04:10:18.561896Z",
     "start_time": "2018-11-17T04:10:18.553057Z"
    }
   },
   "outputs": [
    {
     "data": {
      "text/html": [
       "<div>\n",
       "<style scoped>\n",
       "    .dataframe tbody tr th:only-of-type {\n",
       "        vertical-align: middle;\n",
       "    }\n",
       "\n",
       "    .dataframe tbody tr th {\n",
       "        vertical-align: top;\n",
       "    }\n",
       "\n",
       "    .dataframe thead th {\n",
       "        text-align: right;\n",
       "    }\n",
       "</style>\n",
       "<table border=\"1\" class=\"dataframe\">\n",
       "  <thead>\n",
       "    <tr style=\"text-align: right;\">\n",
       "      <th></th>\n",
       "      <th>feature</th>\n",
       "      <th>importance</th>\n",
       "    </tr>\n",
       "  </thead>\n",
       "  <tbody>\n",
       "    <tr>\n",
       "      <th>8049</th>\n",
       "      <td>wife</td>\n",
       "      <td>0.032721</td>\n",
       "    </tr>\n",
       "    <tr>\n",
       "      <th>8386</th>\n",
       "      <td>years</td>\n",
       "      <td>0.017818</td>\n",
       "    </tr>\n",
       "    <tr>\n",
       "      <th>969</th>\n",
       "      <td>career</td>\n",
       "      <td>0.015298</td>\n",
       "    </tr>\n",
       "    <tr>\n",
       "      <th>112</th>\n",
       "      <td>able</td>\n",
       "      <td>0.012183</td>\n",
       "    </tr>\n",
       "    <tr>\n",
       "      <th>3946</th>\n",
       "      <td>india</td>\n",
       "      <td>0.011183</td>\n",
       "    </tr>\n",
       "    <tr>\n",
       "      <th>2607</th>\n",
       "      <td>family</td>\n",
       "      <td>0.009607</td>\n",
       "    </tr>\n",
       "    <tr>\n",
       "      <th>4434</th>\n",
       "      <td>life</td>\n",
       "      <td>0.009319</td>\n",
       "    </tr>\n",
       "    <tr>\n",
       "      <th>1714</th>\n",
       "      <td>degree</td>\n",
       "      <td>0.007878</td>\n",
       "    </tr>\n",
       "    <tr>\n",
       "      <th>3540</th>\n",
       "      <td>home</td>\n",
       "      <td>0.007640</td>\n",
       "    </tr>\n",
       "    <tr>\n",
       "      <th>4542</th>\n",
       "      <td>live</td>\n",
       "      <td>0.007008</td>\n",
       "    </tr>\n",
       "    <tr>\n",
       "      <th>4685</th>\n",
       "      <td>love</td>\n",
       "      <td>0.006938</td>\n",
       "    </tr>\n",
       "    <tr>\n",
       "      <th>6341</th>\n",
       "      <td>rule</td>\n",
       "      <td>0.006462</td>\n",
       "    </tr>\n",
       "    <tr>\n",
       "      <th>5204</th>\n",
       "      <td>opportunity</td>\n",
       "      <td>0.006397</td>\n",
       "    </tr>\n",
       "    <tr>\n",
       "      <th>7846</th>\n",
       "      <td>visa</td>\n",
       "      <td>0.006167</td>\n",
       "    </tr>\n",
       "    <tr>\n",
       "      <th>8293</th>\n",
       "      <td>working</td>\n",
       "      <td>0.005932</td>\n",
       "    </tr>\n",
       "    <tr>\n",
       "      <th>3229</th>\n",
       "      <td>h4</td>\n",
       "      <td>0.005858</td>\n",
       "    </tr>\n",
       "    <tr>\n",
       "      <th>1321</th>\n",
       "      <td>confidence</td>\n",
       "      <td>0.005682</td>\n",
       "    </tr>\n",
       "    <tr>\n",
       "      <th>8132</th>\n",
       "      <td>work</td>\n",
       "      <td>0.005575</td>\n",
       "    </tr>\n",
       "    <tr>\n",
       "      <th>8177</th>\n",
       "      <td>work h4</td>\n",
       "      <td>0.005518</td>\n",
       "    </tr>\n",
       "    <tr>\n",
       "      <th>1477</th>\n",
       "      <td>country</td>\n",
       "      <td>0.005310</td>\n",
       "    </tr>\n",
       "  </tbody>\n",
       "</table>\n",
       "</div>"
      ],
      "text/plain": [
       "          feature  importance\n",
       "8049  wife         0.032721  \n",
       "8386  years        0.017818  \n",
       "969   career       0.015298  \n",
       "112   able         0.012183  \n",
       "3946  india        0.011183  \n",
       "2607  family       0.009607  \n",
       "4434  life         0.009319  \n",
       "1714  degree       0.007878  \n",
       "3540  home         0.007640  \n",
       "4542  live         0.007008  \n",
       "4685  love         0.006938  \n",
       "6341  rule         0.006462  \n",
       "5204  opportunity  0.006397  \n",
       "7846  visa         0.006167  \n",
       "8293  working      0.005932  \n",
       "3229  h4           0.005858  \n",
       "1321  confidence   0.005682  \n",
       "8132  work         0.005575  \n",
       "8177  work h4      0.005518  \n",
       "1477  country      0.005310  "
      ]
     },
     "execution_count": 97,
     "metadata": {},
     "output_type": "execute_result"
    }
   ],
   "source": [
    "top20=pd.DataFrame(fi.sort_values('importance', ascending=False).head(20))\n",
    "top20"
   ]
  },
  {
   "cell_type": "code",
   "execution_count": 98,
   "metadata": {
    "ExecuteTime": {
     "end_time": "2018-11-17T04:10:38.896559Z",
     "start_time": "2018-11-17T04:10:38.888653Z"
    }
   },
   "outputs": [
    {
     "data": {
      "text/html": [
       "<div>\n",
       "<style scoped>\n",
       "    .dataframe tbody tr th:only-of-type {\n",
       "        vertical-align: middle;\n",
       "    }\n",
       "\n",
       "    .dataframe tbody tr th {\n",
       "        vertical-align: top;\n",
       "    }\n",
       "\n",
       "    .dataframe thead th {\n",
       "        text-align: right;\n",
       "    }\n",
       "</style>\n",
       "<table border=\"1\" class=\"dataframe\">\n",
       "  <thead>\n",
       "    <tr style=\"text-align: right;\">\n",
       "      <th></th>\n",
       "      <th>feature</th>\n",
       "      <th>importance</th>\n",
       "    </tr>\n",
       "  </thead>\n",
       "  <tbody>\n",
       "    <tr>\n",
       "      <th>8049</th>\n",
       "      <td>wife</td>\n",
       "      <td>0.032721</td>\n",
       "    </tr>\n",
       "    <tr>\n",
       "      <th>8386</th>\n",
       "      <td>years</td>\n",
       "      <td>0.017818</td>\n",
       "    </tr>\n",
       "    <tr>\n",
       "      <th>969</th>\n",
       "      <td>career</td>\n",
       "      <td>0.015298</td>\n",
       "    </tr>\n",
       "    <tr>\n",
       "      <th>112</th>\n",
       "      <td>able</td>\n",
       "      <td>0.012183</td>\n",
       "    </tr>\n",
       "    <tr>\n",
       "      <th>3946</th>\n",
       "      <td>india</td>\n",
       "      <td>0.011183</td>\n",
       "    </tr>\n",
       "    <tr>\n",
       "      <th>2607</th>\n",
       "      <td>family</td>\n",
       "      <td>0.009607</td>\n",
       "    </tr>\n",
       "    <tr>\n",
       "      <th>4434</th>\n",
       "      <td>life</td>\n",
       "      <td>0.009319</td>\n",
       "    </tr>\n",
       "    <tr>\n",
       "      <th>1714</th>\n",
       "      <td>degree</td>\n",
       "      <td>0.007878</td>\n",
       "    </tr>\n",
       "    <tr>\n",
       "      <th>3540</th>\n",
       "      <td>home</td>\n",
       "      <td>0.007640</td>\n",
       "    </tr>\n",
       "    <tr>\n",
       "      <th>4542</th>\n",
       "      <td>live</td>\n",
       "      <td>0.007008</td>\n",
       "    </tr>\n",
       "  </tbody>\n",
       "</table>\n",
       "</div>"
      ],
      "text/plain": [
       "     feature  importance\n",
       "8049  wife    0.032721  \n",
       "8386  years   0.017818  \n",
       "969   career  0.015298  \n",
       "112   able    0.012183  \n",
       "3946  india   0.011183  \n",
       "2607  family  0.009607  \n",
       "4434  life    0.009319  \n",
       "1714  degree  0.007878  \n",
       "3540  home    0.007640  \n",
       "4542  live    0.007008  "
      ]
     },
     "execution_count": 98,
     "metadata": {},
     "output_type": "execute_result"
    }
   ],
   "source": [
    "# Features most associated with target\n",
    "top10=pd.DataFrame(fi.sort_values('importance', ascending=False).head(10))\n",
    "top10"
   ]
  },
  {
   "cell_type": "code",
   "execution_count": 99,
   "metadata": {},
   "outputs": [
    {
     "data": {
      "text/plain": [
       "array(['wife', 'years', 'career', 'able', 'india', 'family', 'life',\n",
       "       'degree', 'home', 'live'], dtype=object)"
      ]
     },
     "execution_count": 99,
     "metadata": {},
     "output_type": "execute_result"
    }
   ],
   "source": [
    "top10['feature'].values"
   ]
  },
  {
   "cell_type": "code",
   "execution_count": 100,
   "metadata": {},
   "outputs": [
    {
     "data": {
      "text/plain": [
       "array(['wife', 'years', 'career', 'able', 'india', 'family', 'life',\n",
       "       'degree', 'home', 'live', 'love', 'rule', 'opportunity', 'visa',\n",
       "       'working', 'h4', 'confidence', 'work', 'work h4', 'country'],\n",
       "      dtype=object)"
      ]
     },
     "execution_count": 100,
     "metadata": {},
     "output_type": "execute_result"
    }
   ],
   "source": [
    "top20['feature'].values"
   ]
  },
  {
   "cell_type": "code",
   "execution_count": 101,
   "metadata": {
    "ExecuteTime": {
     "end_time": "2018-11-17T04:11:27.882244Z",
     "start_time": "2018-11-17T04:11:26.818909Z"
    }
   },
   "outputs": [
    {
     "data": {
      "text/plain": [
       "Text(0, 0.5, 'Feature Importance')"
      ]
     },
     "execution_count": 101,
     "metadata": {},
     "output_type": "execute_result"
    },
    {
     "data": {
      "image/png": "[encoded data removed]",
      "text/plain": [
       "<Figure size 1080x504 with 1 Axes>"
      ]
     },
     "metadata": {},
     "output_type": "display_data"
    }
   ],
   "source": [
    "import seaborn as sns\n",
    "import matplotlib.pyplot as plt\n",
    "%matplotlib inline\n",
    "sns.set(style=\"darkgrid\", color_codes=None)\n",
    "# sns.palplot(sns.color_palette(\"RdBu\", n_colors=7))\n",
    "ax = top10.set_index('feature').plot(kind='bar', legend=False, fontsize=18,  figsize=(15, 7))\n",
    "plt.xticks(rotation = 45,  fontsize=18)\n",
    "plt.title('Most Important Predictors',  fontsize=19)\n",
    "plt.yticks(rotation = 0,  fontsize=18)\n",
    "plt.ylabel('Feature Importance', rotation=90,  fontsize=18)"
   ]
  },
  {
   "cell_type": "markdown",
   "metadata": {},
   "source": [
    "#### ROC-AUC Score"
   ]
  },
  {
   "cell_type": "code",
   "execution_count": 102,
   "metadata": {
    "ExecuteTime": {
     "end_time": "2018-11-17T04:11:44.078947Z",
     "start_time": "2018-11-17T04:11:44.072638Z"
    }
   },
   "outputs": [
    {
     "name": "stdout",
     "output_type": "stream",
     "text": [
      "              precision    recall  f1-score   support\n",
      "\n",
      "       False       0.89      0.98      0.93        65\n",
      "        True       0.98      0.84      0.90        50\n",
      "\n",
      "    accuracy                           0.92       115\n",
      "   macro avg       0.93      0.91      0.92       115\n",
      "weighted avg       0.93      0.92      0.92       115\n",
      "\n"
     ]
    }
   ],
   "source": [
    "from sklearn import metrics\n",
    "print(metrics.classification_report(y_test, predictions))"
   ]
  },
  {
   "cell_type": "code",
   "execution_count": 103,
   "metadata": {
    "ExecuteTime": {
     "end_time": "2018-11-17T04:11:45.516892Z",
     "start_time": "2018-11-17T04:11:45.514307Z"
    }
   },
   "outputs": [],
   "source": [
    "from sklearn.metrics import roc_curve, auc"
   ]
  },
  {
   "cell_type": "code",
   "execution_count": 104,
   "metadata": {
    "ExecuteTime": {
     "end_time": "2018-11-17T04:11:46.746863Z",
     "start_time": "2018-11-17T04:11:46.741815Z"
    }
   },
   "outputs": [],
   "source": [
    "FPR = dict()\n",
    "TPR = dict()\n",
    "ROC_AUC = dict()\n",
    "# For class 1 (has WNV), find the area under the curve:\n",
    "FPR[1], TPR[1], _ = roc_curve(y_test, probabilities)\n",
    "ROC_AUC[1] = auc(FPR[1], TPR[1])"
   ]
  },
  {
   "cell_type": "code",
   "execution_count": 105,
   "metadata": {
    "ExecuteTime": {
     "end_time": "2018-11-17T04:11:47.580054Z",
     "start_time": "2018-11-17T04:11:47.576162Z"
    }
   },
   "outputs": [
    {
     "data": {
      "text/plain": [
       "{1: 0.9803076923076923}"
      ]
     },
     "execution_count": 105,
     "metadata": {},
     "output_type": "execute_result"
    }
   ],
   "source": [
    "ROC_AUC"
   ]
  },
  {
   "cell_type": "code",
   "execution_count": 106,
   "metadata": {
    "ExecuteTime": {
     "end_time": "2018-11-17T04:11:51.516745Z",
     "start_time": "2018-11-17T04:11:51.509797Z"
    }
   },
   "outputs": [
    {
     "name": "stdout",
     "output_type": "stream",
     "text": [
      "0.9803076923076923\n"
     ]
    },
    {
     "data": {
      "text/plain": [
       "0.9803076923076923"
      ]
     },
     "execution_count": 106,
     "metadata": {},
     "output_type": "execute_result"
    }
   ],
   "source": [
    "# What is that ROC-AUC score?\n",
    "print(ROC_AUC[1])\n",
    "# Same but using the scikit default:\n",
    "from sklearn.metrics import roc_auc_score\n",
    "roc_auc_score(y_test, probabilities)"
   ]
  },
  {
   "cell_type": "code",
   "execution_count": 107,
   "metadata": {
    "ExecuteTime": {
     "end_time": "2018-11-17T04:11:54.183447Z",
     "start_time": "2018-11-17T04:11:54.018841Z"
    }
   },
   "outputs": [
    {
     "data": {
      "image/png": "[encoded data removed]",
      "text/plain": [
       "<Figure size 792x648 with 1 Axes>"
      ]
     },
     "metadata": {},
     "output_type": "display_data"
    }
   ],
   "source": [
    "# Let's draw that:\n",
    "plt.style.use('seaborn-white')\n",
    "plt.figure(figsize=[11,9])\n",
    "plt.plot(FPR[1], TPR[1], label='ROC curve (area = %0.2f)' % ROC_AUC[1], linewidth=4)\n",
    "plt.plot([0, 1], [0, 1], 'k--', linewidth=4)\n",
    "plt.xlim([0.0, 1.0])\n",
    "plt.ylim([0.0, 1.05])\n",
    "plt.xlabel('False Positive Rate', fontsize=18)\n",
    "plt.ylabel('True Positive Rate', fontsize=18)\n",
    "plt.title('ROC Curve', fontsize=18)\n",
    "plt.legend(loc=\"lower right\", fontsize=18);"
   ]
  },
  {
   "cell_type": "markdown",
   "metadata": {},
   "source": [
    "## Predict on new data"
   ]
  },
  {
   "cell_type": "code",
   "execution_count": 108,
   "metadata": {
    "ExecuteTime": {
     "end_time": "2018-11-17T04:12:14.957589Z",
     "start_time": "2018-11-17T04:12:14.941609Z"
    }
   },
   "outputs": [],
   "source": [
    "# create new data\n",
    "comment_01=\"My family wholeheartedly welcome this proposed rule. This will make our lives a lot easier. My wife is a university topper in Economics, but cannot work because of the existing limitation with the H4 visa. It's hard to explain the frustration of such a person.\\r\\r\\n\\r\\r\\nCan't wait for this law to go in effect.\""
   ]
  },
  {
   "cell_type": "code",
   "execution_count": 109,
   "metadata": {},
   "outputs": [],
   "source": [
    "comment_02=\"Dear Officer,\\r\\r\\n\\r\\r\\nI strongly support this rule because this will give work authorization rights to many of the spouses who are currently struck and are not able to work despite of having well qualified education.\\r\\r\\n\\r\\r\\nFor my case my spouse is well qualified to be able to contribute to the US economy but she cannot work as she is on H4. She is MBA + CPA ( from WA state jurisdiction). Just imagine how many of the H4 spouses will be out there who cannot work just because of the restrictions on H4. I'm pretty sure with this rule implemented you will be able to extract the best out of your available resources here.\\r\\r\\n\\r\\r\\nWith this rule in action, it will give us world of confidence in this broken immigration system,help us to make big decisions to settle back in USA by investing here such as buying new home,new car and work on our dream start-up company, will create jobs and boost economy.\\r\\r\\n\\r\\r\\nThis rule is no Brain Drainer, providing EAD to those certain spouses who are already in line for permanent residence process along with their spouse GC process;they are possible future US citizen(in line).By providing EAD in advance will help build our life,economy and future of this country into right direction.\\r\\r\\n\\r\\r\\nSincerely,\\r\\r\\n\\r\\r\\nPuneet Marhatha\""
   ]
  },
  {
   "cell_type": "code",
   "execution_count": 110,
   "metadata": {},
   "outputs": [],
   "source": [
    "comment_03='life and love my wife we make our lives we appreciate the experience of sitting at home in the past years. I strongly support this rule because this will give work authorization rights. This will make our lives a lot easier. My wife is a university topper. life and love my wife we make our lives we appreciate the experience of sitting at home in the past years ' "
   ]
  },
  {
   "cell_type": "code",
   "execution_count": 111,
   "metadata": {},
   "outputs": [],
   "source": [
    "comment_04='wife, love, came, day, life, past, single, experience, years, sitting home, able, coming, country, used work, children, visa restrictions, having status, appreciate, wife engineering, helps families'"
   ]
  },
  {
   "cell_type": "code",
   "execution_count": 121,
   "metadata": {},
   "outputs": [],
   "source": [
    "comment_05='But, in a larger sense, we can not dedicate—we can not consecrate—we can not hallow—this ground. The brave men, living and dead, who struggled here, have consecrated it, far above our poor power to add or detract. The world will little note, nor long remember what we say here, but it can never forget what they did here. It is for us the living, rather, to be dedicated here to the unfinished work which they who fought here have thus far so nobly advanced. It is rather for us to be here dedicated to the great task remaining before us—that from these honored dead we take increased devotion to that cause for which they gave the last full measure of devotion—that we here highly resolve that these dead shall not have died in vain—that this nation, under God, shall have a new birth of freedom—and that government of the people, by the people, for the people, shall not perish from the earth.'"
   ]
  },
  {
   "cell_type": "code",
   "execution_count": 122,
   "metadata": {},
   "outputs": [
    {
     "data": {
      "text/html": [
       "<div>\n",
       "<style scoped>\n",
       "    .dataframe tbody tr th:only-of-type {\n",
       "        vertical-align: middle;\n",
       "    }\n",
       "\n",
       "    .dataframe tbody tr th {\n",
       "        vertical-align: top;\n",
       "    }\n",
       "\n",
       "    .dataframe thead th {\n",
       "        text-align: right;\n",
       "    }\n",
       "</style>\n",
       "<table border=\"1\" class=\"dataframe\">\n",
       "  <thead>\n",
       "    <tr style=\"text-align: right;\">\n",
       "      <th></th>\n",
       "      <th>comments</th>\n",
       "    </tr>\n",
       "  </thead>\n",
       "  <tbody>\n",
       "    <tr>\n",
       "      <th>0</th>\n",
       "      <td>My family wholeheartedly welcome this proposed rule. This will make our lives a lot easier. My wife is a university topper in Economics, but cannot work because of the existing limitation with the H4 visa. It's hard to explain the frustration of such a person.\\r\\r\\n\\r\\r\\nCan't wait for this law to go in effect.</td>\n",
       "    </tr>\n",
       "    <tr>\n",
       "      <th>1</th>\n",
       "      <td>Dear Officer,\\r\\r\\n\\r\\r\\nI strongly support this rule because this will give work authorization rights to many of the spouses who are currently struck and are not able to work despite of having well qualified education.\\r\\r\\n\\r\\r\\nFor my case my spouse is well qualified to be able to contribute to the US economy but she cannot work as she is on H4. She is MBA + CPA ( from WA state jurisdiction). Just imagine how many of the H4 spouses will be out there who cannot work just because of the restrictions on H4. I'm pretty sure with this rule implemented you will be able to extract the best out of your available resources here.\\r\\r\\n\\r\\r\\nWith this rule in action, it will give us world of confidence in this broken immigration system,help us to make big decisions to settle back in USA by investing here such as buying new home,new car and work on our dream start-up company, will create jobs and boost economy.\\r\\r\\n\\r\\r\\nThis rule is no Brain Drainer, providing EAD to those certain spouses who are already in line for permanent residence process along with their spouse GC process;they are possible future US citizen(in line).By providing EAD in advance will help build our life,economy and future of this country into right direction.\\r\\r\\n\\r\\r\\nSincerely,\\r\\r\\n\\r\\r\\nPuneet Marhatha</td>\n",
       "    </tr>\n",
       "    <tr>\n",
       "      <th>2</th>\n",
       "      <td>life and love my wife we make our lives we appreciate the experience of sitting at home in the past years. I strongly support this rule because this will give work authorization rights. This will make our lives a lot easier. My wife is a university topper. life and love my wife we make our lives we appreciate the experience of sitting at home in the past years</td>\n",
       "    </tr>\n",
       "    <tr>\n",
       "      <th>3</th>\n",
       "      <td>wife, love, came, day, life, past, single, experience, years, sitting home, able, coming, country, used work, children, visa restrictions, having status, appreciate, wife engineering, helps families</td>\n",
       "    </tr>\n",
       "    <tr>\n",
       "      <th>4</th>\n",
       "      <td>But, in a larger sense, we can not dedicate—we can not consecrate—we can not hallow—this ground. The brave men, living and dead, who struggled here, have consecrated it, far above our poor power to add or detract. The world will little note, nor long remember what we say here, but it can never forget what they did here. It is for us the living, rather, to be dedicated here to the unfinished work which they who fought here have thus far so nobly advanced. It is rather for us to be here dedicated to the great task remaining before us—that from these honored dead we take increased devotion to that cause for which they gave the last full measure of devotion—that we here highly resolve that these dead shall not have died in vain—that this nation, under God, shall have a new birth of freedom—and that government of the people, by the people, for the people, shall not perish from the earth.</td>\n",
       "    </tr>\n",
       "  </tbody>\n",
       "</table>\n",
       "</div>"
      ],
      "text/plain": [
       "                                                                                                                                                                                                                                                                                                                                                                                                                                                                                                                                                                                                                                                                                                                                                                                                                                                                                                                                                                                                                                                                                                                                                                                                                                                                                                                                      comments\n",
       "0  My family wholeheartedly welcome this proposed rule. This will make our lives a lot easier. My wife is a university topper in Economics, but cannot work because of the existing limitation with the H4 visa. It's hard to explain the frustration of such a person.\\r\\r\\n\\r\\r\\nCan't wait for this law to go in effect.                                                                                                                                                                                                                                                                                                                                                                                                                                                                                                                                                                                                                                                                                                                                                                                                                                                                                                                                                                                                                   \n",
       "1  Dear Officer,\\r\\r\\n\\r\\r\\nI strongly support this rule because this will give work authorization rights to many of the spouses who are currently struck and are not able to work despite of having well qualified education.\\r\\r\\n\\r\\r\\nFor my case my spouse is well qualified to be able to contribute to the US economy but she cannot work as she is on H4. She is MBA + CPA ( from WA state jurisdiction). Just imagine how many of the H4 spouses will be out there who cannot work just because of the restrictions on H4. I'm pretty sure with this rule implemented you will be able to extract the best out of your available resources here.\\r\\r\\n\\r\\r\\nWith this rule in action, it will give us world of confidence in this broken immigration system,help us to make big decisions to settle back in USA by investing here such as buying new home,new car and work on our dream start-up company, will create jobs and boost economy.\\r\\r\\n\\r\\r\\nThis rule is no Brain Drainer, providing EAD to those certain spouses who are already in line for permanent residence process along with their spouse GC process;they are possible future US citizen(in line).By providing EAD in advance will help build our life,economy and future of this country into right direction.\\r\\r\\n\\r\\r\\nSincerely,\\r\\r\\n\\r\\r\\nPuneet Marhatha\n",
       "2  life and love my wife we make our lives we appreciate the experience of sitting at home in the past years. I strongly support this rule because this will give work authorization rights. This will make our lives a lot easier. My wife is a university topper. life and love my wife we make our lives we appreciate the experience of sitting at home in the past years                                                                                                                                                                                                                                                                                                                                                                                                                                                                                                                                                                                                                                                                                                                                                                                                                                                                                                                                                                 \n",
       "3  wife, love, came, day, life, past, single, experience, years, sitting home, able, coming, country, used work, children, visa restrictions, having status, appreciate, wife engineering, helps families                                                                                                                                                                                                                                                                                                                                                                                                                                                                                                                                                                                                                                                                                                                                                                                                                                                                                                                                                                                                                                                                                                                                     \n",
       "4  But, in a larger sense, we can not dedicate—we can not consecrate—we can not hallow—this ground. The brave men, living and dead, who struggled here, have consecrated it, far above our poor power to add or detract. The world will little note, nor long remember what we say here, but it can never forget what they did here. It is for us the living, rather, to be dedicated here to the unfinished work which they who fought here have thus far so nobly advanced. It is rather for us to be here dedicated to the great task remaining before us—that from these honored dead we take increased devotion to that cause for which they gave the last full measure of devotion—that we here highly resolve that these dead shall not have died in vain—that this nation, under God, shall have a new birth of freedom—and that government of the people, by the people, for the people, shall not perish from the earth.                                                                                                                                                                                                                                                                                                                                                                                                            "
      ]
     },
     "execution_count": 122,
     "metadata": {},
     "output_type": "execute_result"
    }
   ],
   "source": [
    "new_df=pd.DataFrame({'comments':[comment_01, comment_02, comment_03, comment_04, comment_05]})\n",
    "new_df"
   ]
  },
  {
   "cell_type": "code",
   "execution_count": 123,
   "metadata": {},
   "outputs": [],
   "source": [
    "# open the pickle file\n",
    "file = open(f'vectorizer.pkl', 'rb')\n",
    "tvec_pkl=pickle.load(file)\n",
    "file.close()"
   ]
  },
  {
   "cell_type": "code",
   "execution_count": 124,
   "metadata": {},
   "outputs": [],
   "source": [
    "# vectorize\n",
    "tvec_01 = tvec.transform(new_df['comments'])"
   ]
  },
  {
   "cell_type": "code",
   "execution_count": 125,
   "metadata": {
    "ExecuteTime": {
     "end_time": "2018-11-17T04:12:17.073582Z",
     "start_time": "2018-11-17T04:12:17.067709Z"
    }
   },
   "outputs": [],
   "source": [
    "# predict using the same model we defined earlier\n",
    "predictions=model.predict(tvec_01)"
   ]
  },
  {
   "cell_type": "code",
   "execution_count": 126,
   "metadata": {
    "ExecuteTime": {
     "end_time": "2018-11-17T04:12:18.054592Z",
     "start_time": "2018-11-17T04:12:18.051387Z"
    }
   },
   "outputs": [
    {
     "data": {
      "text/html": [
       "<div>\n",
       "<style scoped>\n",
       "    .dataframe tbody tr th:only-of-type {\n",
       "        vertical-align: middle;\n",
       "    }\n",
       "\n",
       "    .dataframe tbody tr th {\n",
       "        vertical-align: top;\n",
       "    }\n",
       "\n",
       "    .dataframe thead th {\n",
       "        text-align: right;\n",
       "    }\n",
       "</style>\n",
       "<table border=\"1\" class=\"dataframe\">\n",
       "  <thead>\n",
       "    <tr style=\"text-align: right;\">\n",
       "      <th></th>\n",
       "      <th>comments</th>\n",
       "      <th>preds</th>\n",
       "    </tr>\n",
       "  </thead>\n",
       "  <tbody>\n",
       "    <tr>\n",
       "      <th>0</th>\n",
       "      <td>My family wholeheartedly welcome this proposed rule. This will make our lives a lot easier. My wife is a university topper in Economics, but cannot work because of the existing limitation with the H4 visa. It's hard to explain the frustration of such a person.\\r\\r\\n\\r\\r\\nCan't wait for this law to go in effect.</td>\n",
       "      <td>True</td>\n",
       "    </tr>\n",
       "    <tr>\n",
       "      <th>1</th>\n",
       "      <td>Dear Officer,\\r\\r\\n\\r\\r\\nI strongly support this rule because this will give work authorization rights to many of the spouses who are currently struck and are not able to work despite of having well qualified education.\\r\\r\\n\\r\\r\\nFor my case my spouse is well qualified to be able to contribute to the US economy but she cannot work as she is on H4. She is MBA + CPA ( from WA state jurisdiction). Just imagine how many of the H4 spouses will be out there who cannot work just because of the restrictions on H4. I'm pretty sure with this rule implemented you will be able to extract the best out of your available resources here.\\r\\r\\n\\r\\r\\nWith this rule in action, it will give us world of confidence in this broken immigration system,help us to make big decisions to settle back in USA by investing here such as buying new home,new car and work on our dream start-up company, will create jobs and boost economy.\\r\\r\\n\\r\\r\\nThis rule is no Brain Drainer, providing EAD to those certain spouses who are already in line for permanent residence process along with their spouse GC process;they are possible future US citizen(in line).By providing EAD in advance will help build our life,economy and future of this country into right direction.\\r\\r\\n\\r\\r\\nSincerely,\\r\\r\\n\\r\\r\\nPuneet Marhatha</td>\n",
       "      <td>True</td>\n",
       "    </tr>\n",
       "    <tr>\n",
       "      <th>2</th>\n",
       "      <td>life and love my wife we make our lives we appreciate the experience of sitting at home in the past years. I strongly support this rule because this will give work authorization rights. This will make our lives a lot easier. My wife is a university topper. life and love my wife we make our lives we appreciate the experience of sitting at home in the past years</td>\n",
       "      <td>True</td>\n",
       "    </tr>\n",
       "    <tr>\n",
       "      <th>3</th>\n",
       "      <td>wife, love, came, day, life, past, single, experience, years, sitting home, able, coming, country, used work, children, visa restrictions, having status, appreciate, wife engineering, helps families</td>\n",
       "      <td>True</td>\n",
       "    </tr>\n",
       "    <tr>\n",
       "      <th>4</th>\n",
       "      <td>But, in a larger sense, we can not dedicate—we can not consecrate—we can not hallow—this ground. The brave men, living and dead, who struggled here, have consecrated it, far above our poor power to add or detract. The world will little note, nor long remember what we say here, but it can never forget what they did here. It is for us the living, rather, to be dedicated here to the unfinished work which they who fought here have thus far so nobly advanced. It is rather for us to be here dedicated to the great task remaining before us—that from these honored dead we take increased devotion to that cause for which they gave the last full measure of devotion—that we here highly resolve that these dead shall not have died in vain—that this nation, under God, shall have a new birth of freedom—and that government of the people, by the people, for the people, shall not perish from the earth.</td>\n",
       "      <td>False</td>\n",
       "    </tr>\n",
       "  </tbody>\n",
       "</table>\n",
       "</div>"
      ],
      "text/plain": [
       "                                                                                                                                                                                                                                                                                                                                                                                                                                                                                                                                                                                                                                                                                                                                                                                                                                                                                                                                                                                                                                                                                                                                                                                                                                                                                                                                      comments  \\\n",
       "0  My family wholeheartedly welcome this proposed rule. This will make our lives a lot easier. My wife is a university topper in Economics, but cannot work because of the existing limitation with the H4 visa. It's hard to explain the frustration of such a person.\\r\\r\\n\\r\\r\\nCan't wait for this law to go in effect.                                                                                                                                                                                                                                                                                                                                                                                                                                                                                                                                                                                                                                                                                                                                                                                                                                                                                                                                                                                                                      \n",
       "1  Dear Officer,\\r\\r\\n\\r\\r\\nI strongly support this rule because this will give work authorization rights to many of the spouses who are currently struck and are not able to work despite of having well qualified education.\\r\\r\\n\\r\\r\\nFor my case my spouse is well qualified to be able to contribute to the US economy but she cannot work as she is on H4. She is MBA + CPA ( from WA state jurisdiction). Just imagine how many of the H4 spouses will be out there who cannot work just because of the restrictions on H4. I'm pretty sure with this rule implemented you will be able to extract the best out of your available resources here.\\r\\r\\n\\r\\r\\nWith this rule in action, it will give us world of confidence in this broken immigration system,help us to make big decisions to settle back in USA by investing here such as buying new home,new car and work on our dream start-up company, will create jobs and boost economy.\\r\\r\\n\\r\\r\\nThis rule is no Brain Drainer, providing EAD to those certain spouses who are already in line for permanent residence process along with their spouse GC process;they are possible future US citizen(in line).By providing EAD in advance will help build our life,economy and future of this country into right direction.\\r\\r\\n\\r\\r\\nSincerely,\\r\\r\\n\\r\\r\\nPuneet Marhatha   \n",
       "2  life and love my wife we make our lives we appreciate the experience of sitting at home in the past years. I strongly support this rule because this will give work authorization rights. This will make our lives a lot easier. My wife is a university topper. life and love my wife we make our lives we appreciate the experience of sitting at home in the past years                                                                                                                                                                                                                                                                                                                                                                                                                                                                                                                                                                                                                                                                                                                                                                                                                                                                                                                                                                    \n",
       "3  wife, love, came, day, life, past, single, experience, years, sitting home, able, coming, country, used work, children, visa restrictions, having status, appreciate, wife engineering, helps families                                                                                                                                                                                                                                                                                                                                                                                                                                                                                                                                                                                                                                                                                                                                                                                                                                                                                                                                                                                                                                                                                                                                        \n",
       "4  But, in a larger sense, we can not dedicate—we can not consecrate—we can not hallow—this ground. The brave men, living and dead, who struggled here, have consecrated it, far above our poor power to add or detract. The world will little note, nor long remember what we say here, but it can never forget what they did here. It is for us the living, rather, to be dedicated here to the unfinished work which they who fought here have thus far so nobly advanced. It is rather for us to be here dedicated to the great task remaining before us—that from these honored dead we take increased devotion to that cause for which they gave the last full measure of devotion—that we here highly resolve that these dead shall not have died in vain—that this nation, under God, shall have a new birth of freedom—and that government of the people, by the people, for the people, shall not perish from the earth.                                                                                                                                                                                                                                                                                                                                                                                                               \n",
       "\n",
       "   preds  \n",
       "0  True   \n",
       "1  True   \n",
       "2  True   \n",
       "3  True   \n",
       "4  False  "
      ]
     },
     "execution_count": 126,
     "metadata": {},
     "output_type": "execute_result"
    }
   ],
   "source": [
    "# create a new column with the predictions\n",
    "new_df['preds'] = predictions\n",
    "new_df"
   ]
  },
  {
   "cell_type": "code",
   "execution_count": 127,
   "metadata": {
    "ExecuteTime": {
     "end_time": "2018-11-17T04:12:22.708482Z",
     "start_time": "2018-11-17T04:12:22.702375Z"
    }
   },
   "outputs": [
    {
     "data": {
      "text/html": [
       "<div>\n",
       "<style scoped>\n",
       "    .dataframe tbody tr th:only-of-type {\n",
       "        vertical-align: middle;\n",
       "    }\n",
       "\n",
       "    .dataframe tbody tr th {\n",
       "        vertical-align: top;\n",
       "    }\n",
       "\n",
       "    .dataframe thead th {\n",
       "        text-align: right;\n",
       "    }\n",
       "</style>\n",
       "<table border=\"1\" class=\"dataframe\">\n",
       "  <thead>\n",
       "    <tr style=\"text-align: right;\">\n",
       "      <th></th>\n",
       "      <th>comments</th>\n",
       "      <th>preds</th>\n",
       "      <th>probs</th>\n",
       "    </tr>\n",
       "  </thead>\n",
       "  <tbody>\n",
       "    <tr>\n",
       "      <th>0</th>\n",
       "      <td>My family wholeheartedly welcome this proposed rule. This will make our lives a lot easier. My wife is a university topper in Economics, but cannot work because of the existing limitation with the H4 visa. It's hard to explain the frustration of such a person.\\r\\r\\n\\r\\r\\nCan't wait for this law to go in effect.</td>\n",
       "      <td>True</td>\n",
       "      <td>0.921667</td>\n",
       "    </tr>\n",
       "    <tr>\n",
       "      <th>1</th>\n",
       "      <td>Dear Officer,\\r\\r\\n\\r\\r\\nI strongly support this rule because this will give work authorization rights to many of the spouses who are currently struck and are not able to work despite of having well qualified education.\\r\\r\\n\\r\\r\\nFor my case my spouse is well qualified to be able to contribute to the US economy but she cannot work as she is on H4. She is MBA + CPA ( from WA state jurisdiction). Just imagine how many of the H4 spouses will be out there who cannot work just because of the restrictions on H4. I'm pretty sure with this rule implemented you will be able to extract the best out of your available resources here.\\r\\r\\n\\r\\r\\nWith this rule in action, it will give us world of confidence in this broken immigration system,help us to make big decisions to settle back in USA by investing here such as buying new home,new car and work on our dream start-up company, will create jobs and boost economy.\\r\\r\\n\\r\\r\\nThis rule is no Brain Drainer, providing EAD to those certain spouses who are already in line for permanent residence process along with their spouse GC process;they are possible future US citizen(in line).By providing EAD in advance will help build our life,economy and future of this country into right direction.\\r\\r\\n\\r\\r\\nSincerely,\\r\\r\\n\\r\\r\\nPuneet Marhatha</td>\n",
       "      <td>True</td>\n",
       "      <td>0.808833</td>\n",
       "    </tr>\n",
       "    <tr>\n",
       "      <th>2</th>\n",
       "      <td>life and love my wife we make our lives we appreciate the experience of sitting at home in the past years. I strongly support this rule because this will give work authorization rights. This will make our lives a lot easier. My wife is a university topper. life and love my wife we make our lives we appreciate the experience of sitting at home in the past years</td>\n",
       "      <td>True</td>\n",
       "      <td>0.748333</td>\n",
       "    </tr>\n",
       "    <tr>\n",
       "      <th>3</th>\n",
       "      <td>wife, love, came, day, life, past, single, experience, years, sitting home, able, coming, country, used work, children, visa restrictions, having status, appreciate, wife engineering, helps families</td>\n",
       "      <td>True</td>\n",
       "      <td>0.786119</td>\n",
       "    </tr>\n",
       "    <tr>\n",
       "      <th>4</th>\n",
       "      <td>But, in a larger sense, we can not dedicate—we can not consecrate—we can not hallow—this ground. The brave men, living and dead, who struggled here, have consecrated it, far above our poor power to add or detract. The world will little note, nor long remember what we say here, but it can never forget what they did here. It is for us the living, rather, to be dedicated here to the unfinished work which they who fought here have thus far so nobly advanced. It is rather for us to be here dedicated to the great task remaining before us—that from these honored dead we take increased devotion to that cause for which they gave the last full measure of devotion—that we here highly resolve that these dead shall not have died in vain—that this nation, under God, shall have a new birth of freedom—and that government of the people, by the people, for the people, shall not perish from the earth.</td>\n",
       "      <td>False</td>\n",
       "      <td>0.143833</td>\n",
       "    </tr>\n",
       "  </tbody>\n",
       "</table>\n",
       "</div>"
      ],
      "text/plain": [
       "                                                                                                                                                                                                                                                                                                                                                                                                                                                                                                                                                                                                                                                                                                                                                                                                                                                                                                                                                                                                                                                                                                                                                                                                                                                                                                                                      comments  \\\n",
       "0  My family wholeheartedly welcome this proposed rule. This will make our lives a lot easier. My wife is a university topper in Economics, but cannot work because of the existing limitation with the H4 visa. It's hard to explain the frustration of such a person.\\r\\r\\n\\r\\r\\nCan't wait for this law to go in effect.                                                                                                                                                                                                                                                                                                                                                                                                                                                                                                                                                                                                                                                                                                                                                                                                                                                                                                                                                                                                                      \n",
       "1  Dear Officer,\\r\\r\\n\\r\\r\\nI strongly support this rule because this will give work authorization rights to many of the spouses who are currently struck and are not able to work despite of having well qualified education.\\r\\r\\n\\r\\r\\nFor my case my spouse is well qualified to be able to contribute to the US economy but she cannot work as she is on H4. She is MBA + CPA ( from WA state jurisdiction). Just imagine how many of the H4 spouses will be out there who cannot work just because of the restrictions on H4. I'm pretty sure with this rule implemented you will be able to extract the best out of your available resources here.\\r\\r\\n\\r\\r\\nWith this rule in action, it will give us world of confidence in this broken immigration system,help us to make big decisions to settle back in USA by investing here such as buying new home,new car and work on our dream start-up company, will create jobs and boost economy.\\r\\r\\n\\r\\r\\nThis rule is no Brain Drainer, providing EAD to those certain spouses who are already in line for permanent residence process along with their spouse GC process;they are possible future US citizen(in line).By providing EAD in advance will help build our life,economy and future of this country into right direction.\\r\\r\\n\\r\\r\\nSincerely,\\r\\r\\n\\r\\r\\nPuneet Marhatha   \n",
       "2  life and love my wife we make our lives we appreciate the experience of sitting at home in the past years. I strongly support this rule because this will give work authorization rights. This will make our lives a lot easier. My wife is a university topper. life and love my wife we make our lives we appreciate the experience of sitting at home in the past years                                                                                                                                                                                                                                                                                                                                                                                                                                                                                                                                                                                                                                                                                                                                                                                                                                                                                                                                                                    \n",
       "3  wife, love, came, day, life, past, single, experience, years, sitting home, able, coming, country, used work, children, visa restrictions, having status, appreciate, wife engineering, helps families                                                                                                                                                                                                                                                                                                                                                                                                                                                                                                                                                                                                                                                                                                                                                                                                                                                                                                                                                                                                                                                                                                                                        \n",
       "4  But, in a larger sense, we can not dedicate—we can not consecrate—we can not hallow—this ground. The brave men, living and dead, who struggled here, have consecrated it, far above our poor power to add or detract. The world will little note, nor long remember what we say here, but it can never forget what they did here. It is for us the living, rather, to be dedicated here to the unfinished work which they who fought here have thus far so nobly advanced. It is rather for us to be here dedicated to the great task remaining before us—that from these honored dead we take increased devotion to that cause for which they gave the last full measure of devotion—that we here highly resolve that these dead shall not have died in vain—that this nation, under God, shall have a new birth of freedom—and that government of the people, by the people, for the people, shall not perish from the earth.                                                                                                                                                                                                                                                                                                                                                                                                               \n",
       "\n",
       "   preds     probs  \n",
       "0  True   0.921667  \n",
       "1  True   0.808833  \n",
       "2  True   0.748333  \n",
       "3  True   0.786119  \n",
       "4  False  0.143833  "
      ]
     },
     "execution_count": 127,
     "metadata": {},
     "output_type": "execute_result"
    }
   ],
   "source": [
    "# Probabilities\n",
    "new_df['probs'] = model.predict_proba(tvec_01)[:,1]\n",
    "new_df"
   ]
  }
 ],
 "metadata": {
  "kernelspec": {
   "display_name": "Python 3",
   "language": "python",
   "name": "python3"
  },
  "language_info": {
   "codemirror_mode": {
    "name": "ipython",
    "version": 3
   },
   "file_extension": ".py",
   "mimetype": "text/x-python",
   "name": "python",
   "nbconvert_exporter": "python",
   "pygments_lexer": "ipython3",
   "version": "3.7.3"
  },
  "toc": {
   "base_numbering": 1,
   "nav_menu": {},
   "number_sections": true,
   "sideBar": true,
   "skip_h1_title": false,
   "title_cell": "Table of Contents",
   "title_sidebar": "Contents",
   "toc_cell": false,
   "toc_position": {},
   "toc_section_display": true,
   "toc_window_display": false
  },
  "varInspector": {
   "cols": {
    "lenName": 16,
    "lenType": 16,
    "lenVar": 40
   },
   "kernels_config": {
    "python": {
     "delete_cmd_postfix": "",
     "delete_cmd_prefix": "del ",
     "library": "var_list.py",
     "varRefreshCmd": "print(var_dic_list())"
    },
    "r": {
     "delete_cmd_postfix": ") ",
     "delete_cmd_prefix": "rm(",
     "library": "var_list.r",
     "varRefreshCmd": "cat(var_dic_list()) "
    }
   },
   "types_to_exclude": [
    "module",
    "function",
    "builtin_function_or_method",
    "instance",
    "_Feature"
   ],
   "window_display": false
  }
 },
 "nbformat": 4,
 "nbformat_minor": 2
}
